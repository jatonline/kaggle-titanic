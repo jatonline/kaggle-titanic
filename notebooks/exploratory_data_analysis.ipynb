{
 "cells": [
  {
   "cell_type": "markdown",
   "metadata": {},
   "source": [
    "# Titanic dataset - exploratory data analysis and modelling\n",
    "\n",
    "*James Thomas*  \n",
    "*8th May 2020*"
   ]
  },
  {
   "cell_type": "markdown",
   "metadata": {},
   "source": [
    "## The big picture\n",
    "\n",
    "The task is to predict whether a passenger on the Titanic survived or died in the disaster of 15 April 1912.\n",
    "\n",
    "The data includes various information for each passenger and (in the case of the training set) labels defining the outcome for that passenger.\n",
    "\n",
    "This will be a supervised classification problem. Since this is a training exercise, there is no existing system and the object is to get as high a performing model as possible. The metric used to evaluate the model will be categorisation accuracy."
   ]
  },
  {
   "cell_type": "markdown",
   "metadata": {},
   "source": [
    "## Get the data\n",
    "\n",
    "The dataset is freely available and is provided by Kaggle as separate training and test datasets, in `csv` format.\n",
    "\n",
    "The training set contains lables but that set does not.\n",
    "\n",
    "They can be downloaded from Kaggle website or via the API:\n",
    "\n",
    "    $ kaggle competitions download titanic\n",
    "\n",
    "They should be downloaded and unzippsed inside the ../raw_data/ folder."
   ]
  },
  {
   "cell_type": "code",
   "execution_count": 1,
   "metadata": {},
   "outputs": [],
   "source": [
    "import matplotlib.pyplot as plt\n",
    "import numpy as np\n",
    "import pandas as pd\n",
    "import seaborn as sns\n",
    "import statsmodels.api as sm\n",
    "\n",
    "import warnings\n",
    "warnings.simplefilter(\"always\")\n",
    "\n",
    "# Pandas and plotting defaults\n",
    "pd.set_option(\"max_colwidth\", None)\n",
    "plt.rc(\"axes.spines\", top=False, right=False)\n",
    "sns.set_palette(\"colorblind\")\n",
    "\n",
    "# Reproducible analyses\n",
    "np.random.seed(1234)\n",
    "\n",
    "%load_ext autoreload\n",
    "%autoreload 2\n",
    "\n",
    "# Convenience functions to add data lables to plots\n",
    "from utils import add_totals, add_rates"
   ]
  },
  {
   "cell_type": "markdown",
   "metadata": {},
   "source": [
    "## Load the data"
   ]
  },
  {
   "cell_type": "code",
   "execution_count": 2,
   "metadata": {},
   "outputs": [],
   "source": [
    "train = pd.read_csv(\"../raw_data/train.csv\", index_col=0)\n",
    "test = pd.read_csv(\"../raw_data/test.csv\", index_col=0)"
   ]
  },
  {
   "cell_type": "markdown",
   "metadata": {},
   "source": [
    "## Explore the data\n",
    "\n",
    "Summary of data exploration steps:\n",
    "\n",
    "1. Features\n",
    "    * What is known about the feature?\n",
    "    * What is the datatype?\n",
    "    * What is the distribution of values?\n",
    "    * Is it (or could it be) categorical? (if so, what encoding might be appropriate?)\n",
    "    * How many unique values are there? (# and % of total)\n",
    "        - Even if there are many unique values, is there any useful information that could be extracted? (e.g. title from name)\n",
    "    * How many values are present or missing? (# and % of total)\n",
    "        - Should these be imputed or dropped?\n",
    "        - How should they be imputed? e.g. missing value, median, most, by correlation with other features\n",
    "        - Should an indicator column be used to denote imputed values?\n",
    "    * Does the data need to be cleaned?\n",
    "        - Is the data noisy?\n",
    "        - Are there rounding errors?\n",
    "        - Are there outliers?\n",
    "    * Are the statistics observed in the training data also observed in the test data?\n",
    "\n",
    "\n",
    "2. Target\n",
    "    * What is the % survival rate? (for a baseline prediction score)\n",
    "    * How does a simple linear model using the highest correlating feature perform? (a better baseline score)\n",
    "\n",
    "\n",
    "3. Relationship between features/target\n",
    "    * Which features have the highest correlations with the target variable?\n",
    "    * What is the correlation between pairs of features?\n",
    "    * Are there any clusters? (using an unsupervised approach)\n",
    "    * How might the problem be solved manually? \n",
    "\n",
    "\n",
    "4. Feature engineering\n",
    "    * What transformations could be applied to existing features?\n",
    "    * What features could be derived from the existing features? e.g.\n",
    "        - family size from siblings + children/parents\n",
    "        - is passenger alone? (see ticket number)\n",
    "        - is passenger a parent?\n",
    "        - is passenger a mother?\n",
    "    * What can be extracted from string fields? e.g.\n",
    "        - title from name\n",
    "        - deck from cabin\n",
    "    * Can continuous variables be grouped into bins? (an ordinal categorical feature)\n",
    "        - especially if they are not 100% certain, e.g. fare or age\n",
    "        - or where this might be useful, e.g. adult/child from age\n",
    "\n",
    "\n",
    "5. Additional data\n",
    "    * Could more data be gathered?\n",
    "    * Could extra features be gathered?"
   ]
  },
  {
   "cell_type": "markdown",
   "metadata": {},
   "source": [
    "### Take a look\n",
    "\n",
    "Look at a random selection of the training data:"
   ]
  },
  {
   "cell_type": "code",
   "execution_count": 3,
   "metadata": {},
   "outputs": [
    {
     "data": {
      "text/html": [
       "<div>\n",
       "<style scoped>\n",
       "    .dataframe tbody tr th:only-of-type {\n",
       "        vertical-align: middle;\n",
       "    }\n",
       "\n",
       "    .dataframe tbody tr th {\n",
       "        vertical-align: top;\n",
       "    }\n",
       "\n",
       "    .dataframe thead th {\n",
       "        text-align: right;\n",
       "    }\n",
       "</style>\n",
       "<table border=\"1\" class=\"dataframe\">\n",
       "  <thead>\n",
       "    <tr style=\"text-align: right;\">\n",
       "      <th></th>\n",
       "      <th>Survived</th>\n",
       "      <th>Pclass</th>\n",
       "      <th>Name</th>\n",
       "      <th>Sex</th>\n",
       "      <th>Age</th>\n",
       "      <th>SibSp</th>\n",
       "      <th>Parch</th>\n",
       "      <th>Ticket</th>\n",
       "      <th>Fare</th>\n",
       "      <th>Cabin</th>\n",
       "      <th>Embarked</th>\n",
       "    </tr>\n",
       "    <tr>\n",
       "      <th>PassengerId</th>\n",
       "      <th></th>\n",
       "      <th></th>\n",
       "      <th></th>\n",
       "      <th></th>\n",
       "      <th></th>\n",
       "      <th></th>\n",
       "      <th></th>\n",
       "      <th></th>\n",
       "      <th></th>\n",
       "      <th></th>\n",
       "      <th></th>\n",
       "    </tr>\n",
       "  </thead>\n",
       "  <tbody>\n",
       "    <tr>\n",
       "      <th>524</th>\n",
       "      <td>1</td>\n",
       "      <td>1</td>\n",
       "      <td>Hippach, Mrs. Louis Albert (Ida Sophia Fischer)</td>\n",
       "      <td>female</td>\n",
       "      <td>44.0</td>\n",
       "      <td>0</td>\n",
       "      <td>1</td>\n",
       "      <td>111361</td>\n",
       "      <td>57.9792</td>\n",
       "      <td>B18</td>\n",
       "      <td>C</td>\n",
       "    </tr>\n",
       "    <tr>\n",
       "      <th>779</th>\n",
       "      <td>0</td>\n",
       "      <td>3</td>\n",
       "      <td>Kilgannon, Mr. Thomas J</td>\n",
       "      <td>male</td>\n",
       "      <td>NaN</td>\n",
       "      <td>0</td>\n",
       "      <td>0</td>\n",
       "      <td>36865</td>\n",
       "      <td>7.7375</td>\n",
       "      <td>NaN</td>\n",
       "      <td>Q</td>\n",
       "    </tr>\n",
       "    <tr>\n",
       "      <th>761</th>\n",
       "      <td>0</td>\n",
       "      <td>3</td>\n",
       "      <td>Garfirth, Mr. John</td>\n",
       "      <td>male</td>\n",
       "      <td>NaN</td>\n",
       "      <td>0</td>\n",
       "      <td>0</td>\n",
       "      <td>358585</td>\n",
       "      <td>14.5000</td>\n",
       "      <td>NaN</td>\n",
       "      <td>S</td>\n",
       "    </tr>\n",
       "    <tr>\n",
       "      <th>497</th>\n",
       "      <td>1</td>\n",
       "      <td>1</td>\n",
       "      <td>Eustis, Miss. Elizabeth Mussey</td>\n",
       "      <td>female</td>\n",
       "      <td>54.0</td>\n",
       "      <td>1</td>\n",
       "      <td>0</td>\n",
       "      <td>36947</td>\n",
       "      <td>78.2667</td>\n",
       "      <td>D20</td>\n",
       "      <td>C</td>\n",
       "    </tr>\n",
       "    <tr>\n",
       "      <th>584</th>\n",
       "      <td>0</td>\n",
       "      <td>1</td>\n",
       "      <td>Ross, Mr. John Hugo</td>\n",
       "      <td>male</td>\n",
       "      <td>36.0</td>\n",
       "      <td>0</td>\n",
       "      <td>0</td>\n",
       "      <td>13049</td>\n",
       "      <td>40.1250</td>\n",
       "      <td>A10</td>\n",
       "      <td>C</td>\n",
       "    </tr>\n",
       "    <tr>\n",
       "      <th>41</th>\n",
       "      <td>0</td>\n",
       "      <td>3</td>\n",
       "      <td>Ahlin, Mrs. Johan (Johanna Persdotter Larsson)</td>\n",
       "      <td>female</td>\n",
       "      <td>40.0</td>\n",
       "      <td>1</td>\n",
       "      <td>0</td>\n",
       "      <td>7546</td>\n",
       "      <td>9.4750</td>\n",
       "      <td>NaN</td>\n",
       "      <td>S</td>\n",
       "    </tr>\n",
       "    <tr>\n",
       "      <th>783</th>\n",
       "      <td>0</td>\n",
       "      <td>1</td>\n",
       "      <td>Long, Mr. Milton Clyde</td>\n",
       "      <td>male</td>\n",
       "      <td>29.0</td>\n",
       "      <td>0</td>\n",
       "      <td>0</td>\n",
       "      <td>113501</td>\n",
       "      <td>30.0000</td>\n",
       "      <td>D6</td>\n",
       "      <td>S</td>\n",
       "    </tr>\n",
       "    <tr>\n",
       "      <th>241</th>\n",
       "      <td>0</td>\n",
       "      <td>3</td>\n",
       "      <td>Zabour, Miss. Thamine</td>\n",
       "      <td>female</td>\n",
       "      <td>NaN</td>\n",
       "      <td>1</td>\n",
       "      <td>0</td>\n",
       "      <td>2665</td>\n",
       "      <td>14.4542</td>\n",
       "      <td>NaN</td>\n",
       "      <td>C</td>\n",
       "    </tr>\n",
       "    <tr>\n",
       "      <th>147</th>\n",
       "      <td>1</td>\n",
       "      <td>3</td>\n",
       "      <td>Andersson, Mr. August Edvard (\"Wennerstrom\")</td>\n",
       "      <td>male</td>\n",
       "      <td>27.0</td>\n",
       "      <td>0</td>\n",
       "      <td>0</td>\n",
       "      <td>350043</td>\n",
       "      <td>7.7958</td>\n",
       "      <td>NaN</td>\n",
       "      <td>S</td>\n",
       "    </tr>\n",
       "    <tr>\n",
       "      <th>61</th>\n",
       "      <td>0</td>\n",
       "      <td>3</td>\n",
       "      <td>Sirayanian, Mr. Orsen</td>\n",
       "      <td>male</td>\n",
       "      <td>22.0</td>\n",
       "      <td>0</td>\n",
       "      <td>0</td>\n",
       "      <td>2669</td>\n",
       "      <td>7.2292</td>\n",
       "      <td>NaN</td>\n",
       "      <td>C</td>\n",
       "    </tr>\n",
       "  </tbody>\n",
       "</table>\n",
       "</div>"
      ],
      "text/plain": [
       "             Survived  Pclass  \\\n",
       "PassengerId                     \n",
       "524                 1       1   \n",
       "779                 0       3   \n",
       "761                 0       3   \n",
       "497                 1       1   \n",
       "584                 0       1   \n",
       "41                  0       3   \n",
       "783                 0       1   \n",
       "241                 0       3   \n",
       "147                 1       3   \n",
       "61                  0       3   \n",
       "\n",
       "                                                        Name     Sex   Age  \\\n",
       "PassengerId                                                                  \n",
       "524          Hippach, Mrs. Louis Albert (Ida Sophia Fischer)  female  44.0   \n",
       "779                                  Kilgannon, Mr. Thomas J    male   NaN   \n",
       "761                                       Garfirth, Mr. John    male   NaN   \n",
       "497                           Eustis, Miss. Elizabeth Mussey  female  54.0   \n",
       "584                                      Ross, Mr. John Hugo    male  36.0   \n",
       "41            Ahlin, Mrs. Johan (Johanna Persdotter Larsson)  female  40.0   \n",
       "783                                   Long, Mr. Milton Clyde    male  29.0   \n",
       "241                                    Zabour, Miss. Thamine  female   NaN   \n",
       "147             Andersson, Mr. August Edvard (\"Wennerstrom\")    male  27.0   \n",
       "61                                     Sirayanian, Mr. Orsen    male  22.0   \n",
       "\n",
       "             SibSp  Parch  Ticket     Fare Cabin Embarked  \n",
       "PassengerId                                                \n",
       "524              0      1  111361  57.9792   B18        C  \n",
       "779              0      0   36865   7.7375   NaN        Q  \n",
       "761              0      0  358585  14.5000   NaN        S  \n",
       "497              1      0   36947  78.2667   D20        C  \n",
       "584              0      0   13049  40.1250   A10        C  \n",
       "41               1      0    7546   9.4750   NaN        S  \n",
       "783              0      0  113501  30.0000    D6        S  \n",
       "241              1      0    2665  14.4542   NaN        C  \n",
       "147              0      0  350043   7.7958   NaN        S  \n",
       "61               0      0    2669   7.2292   NaN        C  "
      ]
     },
     "execution_count": 3,
     "metadata": {},
     "output_type": "execute_result"
    }
   ],
   "source": [
    "train.sample(10)"
   ]
  },
  {
   "cell_type": "markdown",
   "metadata": {},
   "source": [
    "### Understand each feature\n",
    "\n",
    "Check the column datatypes, number of null values, and of unique values:"
   ]
  },
  {
   "cell_type": "code",
   "execution_count": 4,
   "metadata": {},
   "outputs": [
    {
     "name": "stdout",
     "output_type": "stream",
     "text": [
      "<class 'pandas.core.frame.DataFrame'>\n",
      "Int64Index: 891 entries, 1 to 891\n",
      "Data columns (total 11 columns):\n",
      " #   Column    Non-Null Count  Dtype  \n",
      "---  ------    --------------  -----  \n",
      " 0   Survived  891 non-null    int64  \n",
      " 1   Pclass    891 non-null    int64  \n",
      " 2   Name      891 non-null    object \n",
      " 3   Sex       891 non-null    object \n",
      " 4   Age       714 non-null    float64\n",
      " 5   SibSp     891 non-null    int64  \n",
      " 6   Parch     891 non-null    int64  \n",
      " 7   Ticket    891 non-null    object \n",
      " 8   Fare      891 non-null    float64\n",
      " 9   Cabin     204 non-null    object \n",
      " 10  Embarked  889 non-null    object \n",
      "dtypes: float64(2), int64(4), object(5)\n",
      "memory usage: 83.5+ KB\n"
     ]
    }
   ],
   "source": [
    "train.info()"
   ]
  },
  {
   "cell_type": "code",
   "execution_count": 5,
   "metadata": {},
   "outputs": [
    {
     "data": {
      "text/plain": [
       "Survived      2\n",
       "Pclass        3\n",
       "Name        891\n",
       "Sex           2\n",
       "Age          88\n",
       "SibSp         7\n",
       "Parch         7\n",
       "Ticket      681\n",
       "Fare        248\n",
       "Cabin       147\n",
       "Embarked      3\n",
       "dtype: int64"
      ]
     },
     "execution_count": 5,
     "metadata": {},
     "output_type": "execute_result"
    }
   ],
   "source": [
    "train.nunique()"
   ]
  },
  {
   "cell_type": "markdown",
   "metadata": {},
   "source": [
    "There are 4 integer columns:\n",
    " * `Survived` is the _target_ and is a _binary variable_. `1` = survived and `0` = died.\n",
    " * `Pclass` is the passenger class and is a _categorical variable_. The classes are `1` = first, `2` = second, `3` = third class.\n",
    " * `SibSp` is the number of siblings or spouses on board and is a _discrete variable_.\n",
    " * `Parch` is the number of parents or children on board and is also a _discrete variable_.\n",
    " \n",
    "2 float columns:\n",
    " * `Age` is the age of the passenger in years. It is technically a _continuous variable_ as some rows have non-integer numbers of years, however many are rounded to the nearest year. There are 177 rows with missing values.\n",
    " * `Fare` is the fare price of the ticket and is a _continuous variable_.\n",
    "\n",
    "and 5 string columns:\n",
    " * `Name` is the name of the passenger.\n",
    " * `Sex` is the sex of the passenger and is a _categorical variable_.\n",
    " * `Ticket` is the ticket number (which is a string because it may contain letters).\n",
    " * `Cabin` is the cabin number of the passenger, which includes the deck. However the majority of the cabin numbers are missing.\n",
    " * `Embarked` is the port of embarkation of the passenger and is a _categorical variable_, with just two missing values. The classes are `C` = Cherbourg, `Q` = Queenstown, `S` = Southampton.\n",
    " \n",
    "The columns can therefore be divided into \"numerical\" types and \"categorical\" types, with three remaining \"string\" types."
   ]
  },
  {
   "cell_type": "code",
   "execution_count": 6,
   "metadata": {},
   "outputs": [],
   "source": [
    "numercial_types = [\"Age\", \"Fare\", \"SibSp\", \"Parch\"]\n",
    "categorical_types = [\"Pclass\", \"Sex\", \"Embarked\"]\n",
    "string_types = [\"Name\", \"Ticket\", \"Cabin\"]"
   ]
  },
  {
   "cell_type": "markdown",
   "metadata": {},
   "source": [
    "### Distribution of numerical types"
   ]
  },
  {
   "cell_type": "code",
   "execution_count": 7,
   "metadata": {},
   "outputs": [
    {
     "data": {
      "text/html": [
       "<div>\n",
       "<style scoped>\n",
       "    .dataframe tbody tr th:only-of-type {\n",
       "        vertical-align: middle;\n",
       "    }\n",
       "\n",
       "    .dataframe tbody tr th {\n",
       "        vertical-align: top;\n",
       "    }\n",
       "\n",
       "    .dataframe thead th {\n",
       "        text-align: right;\n",
       "    }\n",
       "</style>\n",
       "<table border=\"1\" class=\"dataframe\">\n",
       "  <thead>\n",
       "    <tr style=\"text-align: right;\">\n",
       "      <th></th>\n",
       "      <th>Age</th>\n",
       "      <th>Fare</th>\n",
       "      <th>SibSp</th>\n",
       "      <th>Parch</th>\n",
       "    </tr>\n",
       "  </thead>\n",
       "  <tbody>\n",
       "    <tr>\n",
       "      <th>count</th>\n",
       "      <td>714.000000</td>\n",
       "      <td>891.000000</td>\n",
       "      <td>891.000000</td>\n",
       "      <td>891.000000</td>\n",
       "    </tr>\n",
       "    <tr>\n",
       "      <th>mean</th>\n",
       "      <td>29.699118</td>\n",
       "      <td>32.204208</td>\n",
       "      <td>0.523008</td>\n",
       "      <td>0.381594</td>\n",
       "    </tr>\n",
       "    <tr>\n",
       "      <th>std</th>\n",
       "      <td>14.526497</td>\n",
       "      <td>49.693429</td>\n",
       "      <td>1.102743</td>\n",
       "      <td>0.806057</td>\n",
       "    </tr>\n",
       "    <tr>\n",
       "      <th>min</th>\n",
       "      <td>0.420000</td>\n",
       "      <td>0.000000</td>\n",
       "      <td>0.000000</td>\n",
       "      <td>0.000000</td>\n",
       "    </tr>\n",
       "    <tr>\n",
       "      <th>25%</th>\n",
       "      <td>20.125000</td>\n",
       "      <td>7.910400</td>\n",
       "      <td>0.000000</td>\n",
       "      <td>0.000000</td>\n",
       "    </tr>\n",
       "    <tr>\n",
       "      <th>50%</th>\n",
       "      <td>28.000000</td>\n",
       "      <td>14.454200</td>\n",
       "      <td>0.000000</td>\n",
       "      <td>0.000000</td>\n",
       "    </tr>\n",
       "    <tr>\n",
       "      <th>75%</th>\n",
       "      <td>38.000000</td>\n",
       "      <td>31.000000</td>\n",
       "      <td>1.000000</td>\n",
       "      <td>0.000000</td>\n",
       "    </tr>\n",
       "    <tr>\n",
       "      <th>max</th>\n",
       "      <td>80.000000</td>\n",
       "      <td>512.329200</td>\n",
       "      <td>8.000000</td>\n",
       "      <td>6.000000</td>\n",
       "    </tr>\n",
       "  </tbody>\n",
       "</table>\n",
       "</div>"
      ],
      "text/plain": [
       "              Age        Fare       SibSp       Parch\n",
       "count  714.000000  891.000000  891.000000  891.000000\n",
       "mean    29.699118   32.204208    0.523008    0.381594\n",
       "std     14.526497   49.693429    1.102743    0.806057\n",
       "min      0.420000    0.000000    0.000000    0.000000\n",
       "25%     20.125000    7.910400    0.000000    0.000000\n",
       "50%     28.000000   14.454200    0.000000    0.000000\n",
       "75%     38.000000   31.000000    1.000000    0.000000\n",
       "max     80.000000  512.329200    8.000000    6.000000"
      ]
     },
     "execution_count": 7,
     "metadata": {},
     "output_type": "execute_result"
    }
   ],
   "source": [
    "train[numercial_types].describe()"
   ]
  },
  {
   "cell_type": "markdown",
   "metadata": {},
   "source": [
    "#### SibSp & Parch\n",
    "\n",
    "The number of siblings/spouses and parents/children are highly skewed, and the majority of values are zero:"
   ]
  },
  {
   "cell_type": "code",
   "execution_count": 8,
   "metadata": {},
   "outputs": [
    {
     "data": {
      "text/plain": [
       "0    608\n",
       "1    209\n",
       "2     28\n",
       "3     16\n",
       "4     18\n",
       "5      5\n",
       "8      7\n",
       "Name: SibSp, dtype: int64"
      ]
     },
     "execution_count": 8,
     "metadata": {},
     "output_type": "execute_result"
    }
   ],
   "source": [
    "train[\"SibSp\"].value_counts(sort=False)"
   ]
  },
  {
   "cell_type": "code",
   "execution_count": 9,
   "metadata": {},
   "outputs": [
    {
     "data": {
      "text/plain": [
       "0    678\n",
       "1    118\n",
       "2     80\n",
       "3      5\n",
       "4      4\n",
       "5      5\n",
       "6      1\n",
       "Name: Parch, dtype: int64"
      ]
     },
     "execution_count": 9,
     "metadata": {},
     "output_type": "execute_result"
    }
   ],
   "source": [
    "train[\"Parch\"].value_counts(sort=False)"
   ]
  },
  {
   "cell_type": "markdown",
   "metadata": {
    "execution": {
     "iopub.execute_input": "2020-07-19T07:47:08.019280Z",
     "iopub.status.busy": "2020-07-19T07:47:08.019280Z",
     "iopub.status.idle": "2020-07-19T07:47:08.193340Z",
     "shell.execute_reply": "2020-07-19T07:47:08.189657Z",
     "shell.execute_reply.started": "2020-07-19T07:47:08.019280Z"
    }
   },
   "source": [
    "#### Age & Fare"
   ]
  },
  {
   "cell_type": "markdown",
   "metadata": {},
   "source": [
    "Age and fare have more complex distributions:"
   ]
  },
  {
   "cell_type": "code",
   "execution_count": 10,
   "metadata": {},
   "outputs": [
    {
     "data": {
      "image/png": "[encoded data removed]",
      "text/plain": [
       "<Figure size 432x288 with 1 Axes>"
      ]
     },
     "metadata": {
      "needs_background": "light"
     },
     "output_type": "display_data"
    }
   ],
   "source": [
    "sns.distplot(train[\"Age\"], bins=40);"
   ]
  },
  {
   "cell_type": "markdown",
   "metadata": {},
   "source": [
    "Age is broadly normally distributed, with a longer right-hand tail and also a more babies and young children.\n",
    "\n",
    "A quantile-quantile plot (QQ-plot) demonstates this visually:"
   ]
  },
  {
   "cell_type": "code",
   "execution_count": 12,
   "metadata": {},
   "outputs": [
    {
     "data": {
      "image/png": "[encoded data removed]",
      "text/plain": [
       "<Figure size 432x288 with 1 Axes>"
      ]
     },
     "metadata": {
      "needs_background": "light"
     },
     "output_type": "display_data"
    }
   ],
   "source": [
    "sm.qqplot(train[\"Age\"].dropna(), fit=True, line=\"45\");"
   ]
  },
  {
   "cell_type": "markdown",
   "metadata": {},
   "source": [
    "On the other hand, fare is highly skewed and definitely not normally distributed:"
   ]
  },
  {
   "cell_type": "code",
   "execution_count": 13,
   "metadata": {},
   "outputs": [
    {
     "data": {
      "image/png": "[encoded data removed]",
      "text/plain": [
       "<Figure size 432x288 with 1 Axes>"
      ]
     },
     "metadata": {
      "needs_background": "light"
     },
     "output_type": "display_data"
    },
    {
     "data": {
      "image/png": "[encoded data removed]",
      "text/plain": [
       "<Figure size 432x288 with 1 Axes>"
      ]
     },
     "metadata": {
      "needs_background": "light"
     },
     "output_type": "display_data"
    }
   ],
   "source": [
    "sns.distplot(train[\"Fare\"])\n",
    "sm.qqplot(train[\"Fare\"], dist=\"norm\", fit=True, line=\"45\");"
   ]
  },
  {
   "cell_type": "markdown",
   "metadata": {},
   "source": [
    "And there are 15 passengers with zero fare:"
   ]
  },
  {
   "cell_type": "code",
   "execution_count": 14,
   "metadata": {},
   "outputs": [
    {
     "data": {
      "text/plain": [
       "15"
      ]
     },
     "execution_count": 14,
     "metadata": {},
     "output_type": "execute_result"
    }
   ],
   "source": [
    "(train[\"Fare\"] == 0).sum()"
   ]
  },
  {
   "cell_type": "markdown",
   "metadata": {},
   "source": [
    "The distribution may be closer to a log-normal distribution:"
   ]
  },
  {
   "cell_type": "code",
   "execution_count": 15,
   "metadata": {},
   "outputs": [
    {
     "data": {
      "image/png": "[encoded data removed]",
      "text/plain": [
       "<Figure size 432x288 with 1 Axes>"
      ]
     },
     "metadata": {
      "needs_background": "light"
     },
     "output_type": "display_data"
    }
   ],
   "source": [
    "sm.qqplot(train[\"Fare\"], dist=\"lognorm\", fit=True, line=\"45\");"
   ]
  },
  {
   "cell_type": "markdown",
   "metadata": {},
   "source": [
    "So that the log of the fare is (somewhat) closer to a normal distribution:"
   ]
  },
  {
   "cell_type": "code",
   "execution_count": 16,
   "metadata": {},
   "outputs": [
    {
     "data": {
      "image/png": "[encoded data removed]",
      "text/plain": [
       "<Figure size 432x288 with 1 Axes>"
      ]
     },
     "metadata": {
      "needs_background": "light"
     },
     "output_type": "display_data"
    }
   ],
   "source": [
    "def transform_fare(fare, epsilon=20):\n",
    "    \"\"\"\n",
    "    Apply a logarithmic transformation to fare.\n",
    "    \n",
    "    Args:\n",
    "        epsilon: float >= 0\n",
    "            Used to ensure there are no zeroes in the data\n",
    "    \"\"\"\n",
    "    return np.log(fare + epsilon)\n",
    "    \n",
    "sns.distplot(\n",
    "    transform_fare(train[\"Fare\"]),\n",
    "    bins=30,\n",
    ");"
   ]
  },
  {
   "cell_type": "markdown",
   "metadata": {},
   "source": [
    "### Distribution of categorical types"
   ]
  },
  {
   "cell_type": "markdown",
   "metadata": {},
   "source": [
    "#### Pclass & Sex\n",
    "\n",
    "Split the passengers by sex and ticket class:"
   ]
  },
  {
   "cell_type": "code",
   "execution_count": 17,
   "metadata": {},
   "outputs": [
    {
     "data": {
      "text/html": [
       "<div>\n",
       "<style scoped>\n",
       "    .dataframe tbody tr th:only-of-type {\n",
       "        vertical-align: middle;\n",
       "    }\n",
       "\n",
       "    .dataframe tbody tr th {\n",
       "        vertical-align: top;\n",
       "    }\n",
       "\n",
       "    .dataframe thead th {\n",
       "        text-align: right;\n",
       "    }\n",
       "</style>\n",
       "<table border=\"1\" class=\"dataframe\">\n",
       "  <thead>\n",
       "    <tr style=\"text-align: right;\">\n",
       "      <th>Sex</th>\n",
       "      <th>female</th>\n",
       "      <th>male</th>\n",
       "    </tr>\n",
       "    <tr>\n",
       "      <th>Pclass</th>\n",
       "      <th></th>\n",
       "      <th></th>\n",
       "    </tr>\n",
       "  </thead>\n",
       "  <tbody>\n",
       "    <tr>\n",
       "      <th>1</th>\n",
       "      <td>94</td>\n",
       "      <td>122</td>\n",
       "    </tr>\n",
       "    <tr>\n",
       "      <th>2</th>\n",
       "      <td>76</td>\n",
       "      <td>108</td>\n",
       "    </tr>\n",
       "    <tr>\n",
       "      <th>3</th>\n",
       "      <td>144</td>\n",
       "      <td>347</td>\n",
       "    </tr>\n",
       "  </tbody>\n",
       "</table>\n",
       "</div>"
      ],
      "text/plain": [
       "Sex     female  male\n",
       "Pclass              \n",
       "1           94   122\n",
       "2           76   108\n",
       "3          144   347"
      ]
     },
     "execution_count": 17,
     "metadata": {},
     "output_type": "execute_result"
    }
   ],
   "source": [
    "train.groupby([\"Pclass\", \"Sex\"]).size().unstack()"
   ]
  },
  {
   "cell_type": "code",
   "execution_count": 18,
   "metadata": {},
   "outputs": [
    {
     "data": {
      "image/png": "[encoded data removed]",
      "text/plain": [
       "<Figure size 432x288 with 1 Axes>"
      ]
     },
     "metadata": {
      "needs_background": "light"
     },
     "output_type": "display_data"
    }
   ],
   "source": [
    "ax = sns.countplot(data=train, x=\"Pclass\", hue=\"Sex\")\n",
    "add_totals(ax)"
   ]
  },
  {
   "cell_type": "markdown",
   "metadata": {},
   "source": [
    "There were more men on board in all of the three passenger classes, although the difference is far more marked in third class, which also had the most passengers overall."
   ]
  },
  {
   "cell_type": "markdown",
   "metadata": {},
   "source": [
    "#### Embarked\n",
    "\n",
    "Most of the passengers embarked in Southampton, then Cherbourg, then Queenstown (the order of calling-points on the route). Although the majority of passengers were in third class, the majority of passengers embarking at Cherbourg were in first class, and those embarking at Queenstown were nearly all in third class:"
   ]
  },
  {
   "cell_type": "code",
   "execution_count": 19,
   "metadata": {},
   "outputs": [
    {
     "data": {
      "image/png": "[encoded data removed]",
      "text/plain": [
       "<Figure size 432x288 with 1 Axes>"
      ]
     },
     "metadata": {
      "needs_background": "light"
     },
     "output_type": "display_data"
    }
   ],
   "source": [
    "ax = sns.countplot(data=train, x=\"Embarked\", hue=\"Pclass\")\n",
    "add_totals(ax)"
   ]
  },
  {
   "cell_type": "markdown",
   "metadata": {},
   "source": [
    "### Compare with the target variable"
   ]
  },
  {
   "cell_type": "markdown",
   "metadata": {},
   "source": [
    "Now look at the target variable (this is in the column `Survived`); check how many passengers survived in total:"
   ]
  },
  {
   "cell_type": "code",
   "execution_count": 20,
   "metadata": {},
   "outputs": [
    {
     "data": {
      "text/plain": [
       "0    549\n",
       "1    342\n",
       "Name: Survived, dtype: int64"
      ]
     },
     "execution_count": 20,
     "metadata": {},
     "output_type": "execute_result"
    }
   ],
   "source": [
    "train[\"Survived\"].value_counts()"
   ]
  },
  {
   "cell_type": "code",
   "execution_count": 21,
   "metadata": {},
   "outputs": [
    {
     "data": {
      "image/png": "[encoded data removed]",
      "text/plain": [
       "<Figure size 432x288 with 1 Axes>"
      ]
     },
     "metadata": {
      "needs_background": "light"
     },
     "output_type": "display_data"
    }
   ],
   "source": [
    "ax = sns.countplot(data=train, x=\"Survived\")\n",
    "ax.set_ylim(0, 620)\n",
    "add_totals(ax)"
   ]
  },
  {
   "cell_type": "markdown",
   "metadata": {},
   "source": [
    "Just over a third of the passengers survived, so there is a slight imbalance to the classes.\n",
    "\n",
    "Was this the same across passenger class, sex and age?"
   ]
  },
  {
   "cell_type": "markdown",
   "metadata": {},
   "source": [
    "#### Pclass"
   ]
  },
  {
   "cell_type": "code",
   "execution_count": 22,
   "metadata": {},
   "outputs": [
    {
     "data": {
      "text/html": [
       "<div>\n",
       "<style scoped>\n",
       "    .dataframe tbody tr th:only-of-type {\n",
       "        vertical-align: middle;\n",
       "    }\n",
       "\n",
       "    .dataframe tbody tr th {\n",
       "        vertical-align: top;\n",
       "    }\n",
       "\n",
       "    .dataframe thead th {\n",
       "        text-align: right;\n",
       "    }\n",
       "</style>\n",
       "<table border=\"1\" class=\"dataframe\">\n",
       "  <thead>\n",
       "    <tr style=\"text-align: right;\">\n",
       "      <th>Survived</th>\n",
       "      <th>0</th>\n",
       "      <th>1</th>\n",
       "    </tr>\n",
       "    <tr>\n",
       "      <th>Pclass</th>\n",
       "      <th></th>\n",
       "      <th></th>\n",
       "    </tr>\n",
       "  </thead>\n",
       "  <tbody>\n",
       "    <tr>\n",
       "      <th>1</th>\n",
       "      <td>80</td>\n",
       "      <td>136</td>\n",
       "    </tr>\n",
       "    <tr>\n",
       "      <th>2</th>\n",
       "      <td>97</td>\n",
       "      <td>87</td>\n",
       "    </tr>\n",
       "    <tr>\n",
       "      <th>3</th>\n",
       "      <td>372</td>\n",
       "      <td>119</td>\n",
       "    </tr>\n",
       "  </tbody>\n",
       "</table>\n",
       "</div>"
      ],
      "text/plain": [
       "Survived    0    1\n",
       "Pclass            \n",
       "1          80  136\n",
       "2          97   87\n",
       "3         372  119"
      ]
     },
     "execution_count": 22,
     "metadata": {},
     "output_type": "execute_result"
    }
   ],
   "source": [
    "train.groupby([\"Pclass\", \"Survived\"]).size().unstack()"
   ]
  },
  {
   "cell_type": "code",
   "execution_count": 23,
   "metadata": {},
   "outputs": [
    {
     "data": {
      "image/png": "[encoded data removed]",
      "text/plain": [
       "<Figure size 648x216 with 3 Axes>"
      ]
     },
     "metadata": {
      "needs_background": "light"
     },
     "output_type": "display_data"
    }
   ],
   "source": [
    "g = (\n",
    "    sns.FacetGrid(train, col=\"Pclass\", hue=\"Pclass\")\n",
    "    .map(sns.countplot, \"Survived\", order=(0, 1))\n",
    "    .set_ylabels(\"Count\")\n",
    "    .set(ylim=(0, 450))\n",
    ")\n",
    "for ax in g.axes.flat:\n",
    "    add_totals(ax)"
   ]
  },
  {
   "cell_type": "code",
   "execution_count": 24,
   "metadata": {},
   "outputs": [
    {
     "data": {
      "text/plain": [
       "Pclass\n",
       "1    0.629630\n",
       "2    0.472826\n",
       "3    0.242363\n",
       "Name: Survived, dtype: float64"
      ]
     },
     "execution_count": 24,
     "metadata": {},
     "output_type": "execute_result"
    }
   ],
   "source": [
    "train.groupby(\"Pclass\")[\"Survived\"].mean()"
   ]
  },
  {
   "cell_type": "code",
   "execution_count": 25,
   "metadata": {},
   "outputs": [
    {
     "data": {
      "image/png": "[encoded data removed]",
      "text/plain": [
       "<Figure size 432x288 with 1 Axes>"
      ]
     },
     "metadata": {
      "needs_background": "light"
     },
     "output_type": "display_data"
    }
   ],
   "source": [
    "ax = sns.barplot(data=train, x=\"Pclass\", y=\"Survived\")\n",
    "ax.set_ylabel(\"Survival rate\")\n",
    "add_rates(ax)"
   ]
  },
  {
   "cell_type": "markdown",
   "metadata": {},
   "source": [
    "The bars show 95% confidence intervals, based on bootstrapping.\n",
    "\n",
    "In first class almost two thirds of passengers survived. In second class there is roughly a 50:50 split.\n",
    "\n",
    "Far more people died in third class, both in relative and aboslute terms (because most passengers were in that class) – so there is a marked difference."
   ]
  },
  {
   "cell_type": "markdown",
   "metadata": {},
   "source": [
    "#### Sex"
   ]
  },
  {
   "cell_type": "code",
   "execution_count": 26,
   "metadata": {},
   "outputs": [
    {
     "data": {
      "text/html": [
       "<div>\n",
       "<style scoped>\n",
       "    .dataframe tbody tr th:only-of-type {\n",
       "        vertical-align: middle;\n",
       "    }\n",
       "\n",
       "    .dataframe tbody tr th {\n",
       "        vertical-align: top;\n",
       "    }\n",
       "\n",
       "    .dataframe thead th {\n",
       "        text-align: right;\n",
       "    }\n",
       "</style>\n",
       "<table border=\"1\" class=\"dataframe\">\n",
       "  <thead>\n",
       "    <tr style=\"text-align: right;\">\n",
       "      <th>Survived</th>\n",
       "      <th>0</th>\n",
       "      <th>1</th>\n",
       "    </tr>\n",
       "    <tr>\n",
       "      <th>Sex</th>\n",
       "      <th></th>\n",
       "      <th></th>\n",
       "    </tr>\n",
       "  </thead>\n",
       "  <tbody>\n",
       "    <tr>\n",
       "      <th>female</th>\n",
       "      <td>81</td>\n",
       "      <td>233</td>\n",
       "    </tr>\n",
       "    <tr>\n",
       "      <th>male</th>\n",
       "      <td>468</td>\n",
       "      <td>109</td>\n",
       "    </tr>\n",
       "  </tbody>\n",
       "</table>\n",
       "</div>"
      ],
      "text/plain": [
       "Survived    0    1\n",
       "Sex               \n",
       "female     81  233\n",
       "male      468  109"
      ]
     },
     "execution_count": 26,
     "metadata": {},
     "output_type": "execute_result"
    }
   ],
   "source": [
    "train.groupby([\"Sex\", \"Survived\"]).size().unstack()"
   ]
  },
  {
   "cell_type": "code",
   "execution_count": 27,
   "metadata": {},
   "outputs": [
    {
     "data": {
      "image/png": "[encoded data removed]",
      "text/plain": [
       "<Figure size 432x216 with 2 Axes>"
      ]
     },
     "metadata": {
      "needs_background": "light"
     },
     "output_type": "display_data"
    }
   ],
   "source": [
    "g = (\n",
    "    sns.FacetGrid(train, col=\"Sex\")\n",
    "    .map(sns.countplot, \"Survived\", order=(0, 1))\n",
    "    .set_ylabels(\"count\")\n",
    "    .set(ylim=(0, 560))\n",
    ")\n",
    "for ax in g.axes.flat:\n",
    "    add_totals(ax)"
   ]
  },
  {
   "cell_type": "code",
   "execution_count": 28,
   "metadata": {},
   "outputs": [
    {
     "data": {
      "text/plain": [
       "Sex\n",
       "female    0.742038\n",
       "male      0.188908\n",
       "Name: Survived, dtype: float64"
      ]
     },
     "execution_count": 28,
     "metadata": {},
     "output_type": "execute_result"
    }
   ],
   "source": [
    "train.groupby(\"Sex\")[\"Survived\"].mean()"
   ]
  },
  {
   "cell_type": "code",
   "execution_count": 29,
   "metadata": {},
   "outputs": [
    {
     "data": {
      "image/png": "[encoded data removed]",
      "text/plain": [
       "<Figure size 432x288 with 1 Axes>"
      ]
     },
     "metadata": {
      "needs_background": "light"
     },
     "output_type": "display_data"
    }
   ],
   "source": [
    "ax = sns.barplot(data=train, x=\"Sex\", y=\"Survived\")\n",
    "ax.set_ylabel(\"Survival rate\")        \n",
    "add_rates(ax)"
   ]
  },
  {
   "cell_type": "markdown",
   "metadata": {},
   "source": [
    "Far more women survived than men, so consider both passenger class and sex together."
   ]
  },
  {
   "cell_type": "markdown",
   "metadata": {},
   "source": [
    "#### Pclass & Sex"
   ]
  },
  {
   "cell_type": "code",
   "execution_count": 30,
   "metadata": {},
   "outputs": [
    {
     "data": {
      "text/html": [
       "<div>\n",
       "<style scoped>\n",
       "    .dataframe tbody tr th:only-of-type {\n",
       "        vertical-align: middle;\n",
       "    }\n",
       "\n",
       "    .dataframe tbody tr th {\n",
       "        vertical-align: top;\n",
       "    }\n",
       "\n",
       "    .dataframe thead th {\n",
       "        text-align: right;\n",
       "    }\n",
       "</style>\n",
       "<table border=\"1\" class=\"dataframe\">\n",
       "  <thead>\n",
       "    <tr style=\"text-align: right;\">\n",
       "      <th></th>\n",
       "      <th>Survived</th>\n",
       "      <th>0</th>\n",
       "      <th>1</th>\n",
       "    </tr>\n",
       "    <tr>\n",
       "      <th>Sex</th>\n",
       "      <th>Pclass</th>\n",
       "      <th></th>\n",
       "      <th></th>\n",
       "    </tr>\n",
       "  </thead>\n",
       "  <tbody>\n",
       "    <tr>\n",
       "      <th rowspan=\"3\" valign=\"top\">female</th>\n",
       "      <th>1</th>\n",
       "      <td>3</td>\n",
       "      <td>91</td>\n",
       "    </tr>\n",
       "    <tr>\n",
       "      <th>2</th>\n",
       "      <td>6</td>\n",
       "      <td>70</td>\n",
       "    </tr>\n",
       "    <tr>\n",
       "      <th>3</th>\n",
       "      <td>72</td>\n",
       "      <td>72</td>\n",
       "    </tr>\n",
       "    <tr>\n",
       "      <th rowspan=\"3\" valign=\"top\">male</th>\n",
       "      <th>1</th>\n",
       "      <td>77</td>\n",
       "      <td>45</td>\n",
       "    </tr>\n",
       "    <tr>\n",
       "      <th>2</th>\n",
       "      <td>91</td>\n",
       "      <td>17</td>\n",
       "    </tr>\n",
       "    <tr>\n",
       "      <th>3</th>\n",
       "      <td>300</td>\n",
       "      <td>47</td>\n",
       "    </tr>\n",
       "  </tbody>\n",
       "</table>\n",
       "</div>"
      ],
      "text/plain": [
       "Survived         0   1\n",
       "Sex    Pclass         \n",
       "female 1         3  91\n",
       "       2         6  70\n",
       "       3        72  72\n",
       "male   1        77  45\n",
       "       2        91  17\n",
       "       3       300  47"
      ]
     },
     "execution_count": 30,
     "metadata": {},
     "output_type": "execute_result"
    }
   ],
   "source": [
    "train.groupby([\"Sex\", \"Pclass\", \"Survived\"]).size().unstack()"
   ]
  },
  {
   "cell_type": "code",
   "execution_count": 31,
   "metadata": {},
   "outputs": [
    {
     "data": {
      "image/png": "[encoded data removed]",
      "text/plain": [
       "<Figure size 648x432 with 6 Axes>"
      ]
     },
     "metadata": {
      "needs_background": "light"
     },
     "output_type": "display_data"
    }
   ],
   "source": [
    "g = (\n",
    "    sns.FacetGrid(train, col=\"Pclass\", row=\"Sex\", hue=\"Pclass\")\n",
    "    .map(sns.countplot, \"Survived\", order=(0, 1))\n",
    "    .set_ylabels(\"count\")\n",
    "    .set(ylim=(0, 350))\n",
    ")\n",
    "for ax in g.axes.flat:\n",
    "    add_totals(ax)"
   ]
  },
  {
   "cell_type": "code",
   "execution_count": 32,
   "metadata": {},
   "outputs": [
    {
     "data": {
      "text/html": [
       "<div>\n",
       "<style scoped>\n",
       "    .dataframe tbody tr th:only-of-type {\n",
       "        vertical-align: middle;\n",
       "    }\n",
       "\n",
       "    .dataframe tbody tr th {\n",
       "        vertical-align: top;\n",
       "    }\n",
       "\n",
       "    .dataframe thead th {\n",
       "        text-align: right;\n",
       "    }\n",
       "</style>\n",
       "<table border=\"1\" class=\"dataframe\">\n",
       "  <thead>\n",
       "    <tr style=\"text-align: right;\">\n",
       "      <th>Pclass</th>\n",
       "      <th>1</th>\n",
       "      <th>2</th>\n",
       "      <th>3</th>\n",
       "    </tr>\n",
       "    <tr>\n",
       "      <th>Sex</th>\n",
       "      <th></th>\n",
       "      <th></th>\n",
       "      <th></th>\n",
       "    </tr>\n",
       "  </thead>\n",
       "  <tbody>\n",
       "    <tr>\n",
       "      <th>female</th>\n",
       "      <td>0.968085</td>\n",
       "      <td>0.921053</td>\n",
       "      <td>0.500000</td>\n",
       "    </tr>\n",
       "    <tr>\n",
       "      <th>male</th>\n",
       "      <td>0.368852</td>\n",
       "      <td>0.157407</td>\n",
       "      <td>0.135447</td>\n",
       "    </tr>\n",
       "  </tbody>\n",
       "</table>\n",
       "</div>"
      ],
      "text/plain": [
       "Pclass         1         2         3\n",
       "Sex                                 \n",
       "female  0.968085  0.921053  0.500000\n",
       "male    0.368852  0.157407  0.135447"
      ]
     },
     "execution_count": 32,
     "metadata": {},
     "output_type": "execute_result"
    }
   ],
   "source": [
    "train.groupby([\"Sex\", \"Pclass\"])[\"Survived\"].mean().unstack()"
   ]
  },
  {
   "cell_type": "code",
   "execution_count": 33,
   "metadata": {},
   "outputs": [
    {
     "data": {
      "image/png": "[encoded data removed]",
      "text/plain": [
       "<Figure size 576x288 with 1 Axes>"
      ]
     },
     "metadata": {
      "needs_background": "light"
     },
     "output_type": "display_data"
    }
   ],
   "source": [
    "plt.figure(figsize=(8, 4))\n",
    "ax = sns.barplot(data=train, x=\"Pclass\", y=\"Survived\", hue=\"Sex\")\n",
    "ax.set_ylabel(\"Survival rate\")        \n",
    "add_rates(ax)"
   ]
  },
  {
   "cell_type": "markdown",
   "metadata": {
    "execution": {
     "iopub.execute_input": "2020-05-10T21:35:05.742298Z",
     "iopub.status.busy": "2020-05-10T21:35:05.741299Z",
     "iopub.status.idle": "2020-05-10T21:35:05.760955Z",
     "shell.execute_reply": "2020-05-10T21:35:05.759989Z",
     "shell.execute_reply.started": "2020-05-10T21:35:05.741299Z"
    }
   },
   "source": [
    "There are some huge differences – the majority of men in all the classes died – the survival rate in first class was 37%, however in second and third class (which were roughly the same) it was only around 15%.\n",
    "\n",
    "Almost all women in first and second class survived, whereas only half of those in third class survived (there were more in this class, too).\n",
    "\n",
    "These differences should be taken into account in any further analysis."
   ]
  },
  {
   "cell_type": "markdown",
   "metadata": {
    "execution": {
     "iopub.execute_input": "2020-05-10T21:35:05.742298Z",
     "iopub.status.busy": "2020-05-10T21:35:05.741299Z",
     "iopub.status.idle": "2020-05-10T21:35:05.760955Z",
     "shell.execute_reply": "2020-05-10T21:35:05.759989Z",
     "shell.execute_reply.started": "2020-05-10T21:35:05.741299Z"
    }
   },
   "source": [
    "#### Age & Sex\n",
    "\n",
    "Look at the distribution of ages of the passengers:"
   ]
  },
  {
   "cell_type": "code",
   "execution_count": 34,
   "metadata": {},
   "outputs": [
    {
     "data": {
      "image/png": "[encoded data removed]",
      "text/plain": [
       "<Figure size 699.875x432 with 6 Axes>"
      ]
     },
     "metadata": {
      "needs_background": "light"
     },
     "output_type": "display_data"
    }
   ],
   "source": [
    "g = (\n",
    "    sns.FacetGrid(train, col=\"Pclass\", row=\"Sex\", hue=\"Survived\")\n",
    "    .map(sns.distplot, \"Age\", kde=False, bins=range(0, 81, 4))\n",
    "    .set_ylabels(\"count\")\n",
    "    .add_legend()\n",
    ")"
   ]
  },
  {
   "cell_type": "markdown",
   "metadata": {},
   "source": [
    "Most of the children (under 16) on board were in third class, followed by second class; there were fewest in first class. In first and second class, nearly all the children survived.\n",
    "\n",
    "Of the older adults (over 60), there were more men than women on board, and the majority of these died.\n",
    "\n",
    "Taking note of how many were in each age band, can see there were few older people in third (and to some extent, second) class. It therefore might be better to look at the percentage survival rate in groups."
   ]
  },
  {
   "cell_type": "markdown",
   "metadata": {},
   "source": [
    "#### AgeGroup"
   ]
  },
  {
   "cell_type": "code",
   "execution_count": 35,
   "metadata": {},
   "outputs": [
    {
     "data": {
      "image/png": "[encoded data removed]",
      "text/plain": [
       "<Figure size 432x288 with 1 Axes>"
      ]
     },
     "metadata": {
      "needs_background": "light"
     },
     "output_type": "display_data"
    }
   ],
   "source": [
    "def get_age_group(df):\n",
    "    return pd.cut(\n",
    "        df[\"Age\"], bins=[0, 16, 60, 100], labels=[\"Child\", \"Younger adult\", \"Older adult\"]\n",
    "    )\n",
    "\n",
    "ax = sns.barplot(\n",
    "    x=get_age_group(train),\n",
    "    y=train[\"Survived\"],\n",
    ")\n",
    "add_rates(ax)"
   ]
  },
  {
   "cell_type": "markdown",
   "metadata": {},
   "source": [
    "#### AgeGroup, Pclass & Sex\n",
    "\n",
    "Putting everything together, look at survival rate per age grouping, sex and passenger class:"
   ]
  },
  {
   "cell_type": "code",
   "execution_count": 36,
   "metadata": {},
   "outputs": [
    {
     "data": {
      "image/png": "[encoded data removed]",
      "text/plain": [
       "<Figure size 1080x720 with 6 Axes>"
      ]
     },
     "metadata": {
      "needs_background": "light"
     },
     "output_type": "display_data"
    }
   ],
   "source": [
    "g = sns.catplot(\n",
    "    data=train.assign(Age=get_age_group(train)),\n",
    "    x=\"Age\",\n",
    "    y=\"Survived\",\n",
    "    col=\"Pclass\",\n",
    "    row=\"Sex\",\n",
    "    kind=\"bar\",\n",
    "    ci=95,\n",
    ")\n",
    "for ax in g.axes.flat:\n",
    "    add_rates(ax)"
   ]
  },
  {
   "cell_type": "markdown",
   "metadata": {
    "execution": {
     "iopub.execute_input": "2020-05-18T21:38:16.429852Z",
     "iopub.status.busy": "2020-05-18T21:38:16.429709Z",
     "iopub.status.idle": "2020-05-18T21:38:16.451089Z",
     "shell.execute_reply": "2020-05-18T21:38:16.447482Z",
     "shell.execute_reply.started": "2020-05-18T21:38:16.429852Z"
    }
   },
   "source": [
    "### Feature engineering"
   ]
  },
  {
   "cell_type": "markdown",
   "metadata": {},
   "source": [
    "From the cabin, it is possible to extract the deck by dropping the digits:"
   ]
  },
  {
   "cell_type": "code",
   "execution_count": 37,
   "metadata": {},
   "outputs": [
    {
     "data": {
      "text/plain": [
       "A       15\n",
       "B       36\n",
       "BB       7\n",
       "BBB      2\n",
       "BBBB     2\n",
       "C       51\n",
       "CC       4\n",
       "CCC      4\n",
       "D       32\n",
       "DD       1\n",
       "E       32\n",
       "F        9\n",
       "FE       1\n",
       "FG       3\n",
       "G        4\n",
       "T        1\n",
       "Name: Cabin, dtype: int64"
      ]
     },
     "execution_count": 37,
     "metadata": {},
     "output_type": "execute_result"
    }
   ],
   "source": [
    "deck = train[\"Cabin\"].str.replace(\"[^A-Z]\", \"\")\n",
    "deck.value_counts().sort_index()"
   ]
  },
  {
   "cell_type": "markdown",
   "metadata": {
    "execution": {
     "iopub.execute_input": "2020-07-12T12:44:14.142061Z",
     "iopub.status.busy": "2020-07-12T12:44:14.139796Z",
     "iopub.status.idle": "2020-07-12T12:44:14.179599Z",
     "shell.execute_reply": "2020-07-12T12:44:14.178599Z",
     "shell.execute_reply.started": "2020-07-12T12:44:14.139796Z"
    }
   },
   "source": [
    "#### MultiCabins\n",
    "\n",
    "Some passengers had multiple cabins (e.g. BB, CC, DD, etc.), although this does not appear to be that informative:"
   ]
  },
  {
   "cell_type": "code",
   "execution_count": 38,
   "metadata": {},
   "outputs": [
    {
     "data": {
      "image/png": "[encoded data removed]",
      "text/plain": [
       "<Figure size 432x288 with 1 Axes>"
      ]
     },
     "metadata": {
      "needs_background": "light"
     },
     "output_type": "display_data"
    }
   ],
   "source": [
    "def get_multiple_cabins(df):\n",
    "    deck = df[\"Cabin\"].str.replace(\"[^A-Z]\", \"\")\n",
    "    multi_cabins = (deck.str.len() > 1) & ~(deck.isin([\"FE\", \"FG\"]))\n",
    "    return np.select(\n",
    "        [multi_cabins & deck.notna(), ~multi_cabins & deck.notna()],\n",
    "        [\"multiple\", \"single\"],\n",
    "        default=None,\n",
    "    )\n",
    "\n",
    "ax = sns.barplot(\n",
    "    x=get_multiple_cabins(train),\n",
    "    y=train[\"Survived\"],\n",
    ")\n",
    "ax.set_xlabel(\"Multiple cabins\")\n",
    "add_rates(ax)"
   ]
  },
  {
   "cell_type": "markdown",
   "metadata": {
    "execution": {
     "iopub.execute_input": "2020-07-12T12:44:14.142061Z",
     "iopub.status.busy": "2020-07-12T12:44:14.139796Z",
     "iopub.status.idle": "2020-07-12T12:44:14.179599Z",
     "shell.execute_reply": "2020-07-12T12:44:14.178599Z",
     "shell.execute_reply.started": "2020-07-12T12:44:14.139796Z"
    }
   },
   "source": [
    "#### Deck \n",
    "\n",
    "FE and FG were separately accessed parts of F deck, and T deck is not a deck with cabins on.\n",
    "\n",
    "Given that only just over 200 passengers in the training set have cabin information, and how few passengers there are in the lower decks, try assigning the lower decks (F, FE, FG and G) together:"
   ]
  },
  {
   "cell_type": "code",
   "execution_count": 39,
   "metadata": {},
   "outputs": [
    {
     "data": {
      "image/png": "[encoded data removed]",
      "text/plain": [
       "<Figure size 1080x720 with 6 Axes>"
      ]
     },
     "metadata": {
      "needs_background": "light"
     },
     "output_type": "display_data"
    }
   ],
   "source": [
    "def get_deck(df):\n",
    "    return df[\"Cabin\"].str[0].replace({\"F\": \"F/G\", \"G\": \"F/G\", \"T\": np.nan})\n",
    "\n",
    "g = sns.catplot(\n",
    "    data=train.assign(Deck=get_deck(train)),\n",
    "    x=\"Deck\",\n",
    "    y=\"Survived\",\n",
    "    col=\"Pclass\",\n",
    "    row=\"Sex\",\n",
    "    kind=\"bar\",\n",
    "    ci=95,\n",
    "    order=[\"A\", \"B\", \"C\", \"D\", \"E\", \"F/G\"],\n",
    ")\n",
    "for ax in g.axes.flat:\n",
    "    add_rates(ax)"
   ]
  },
  {
   "cell_type": "markdown",
   "metadata": {},
   "source": [
    "This isn't quite what would be expected, e.g. 100% survival rate for men in third class, however this could be an artefact of the level of record-keeping of the different passenger classes."
   ]
  },
  {
   "cell_type": "markdown",
   "metadata": {},
   "source": [
    "#### CabinNumber\n",
    "\n",
    "Finally, cabin number could also be used to indicate where in the ship the cabin was (smaller cabin numbers are nearer the front of the ship), although it does not look like this will be that informative:"
   ]
  },
  {
   "cell_type": "code",
   "execution_count": 40,
   "metadata": {},
   "outputs": [
    {
     "data": {
      "image/png": "[encoded data removed]",
      "text/plain": [
       "<Figure size 267.875x216 with 1 Axes>"
      ]
     },
     "metadata": {
      "needs_background": "light"
     },
     "output_type": "display_data"
    }
   ],
   "source": [
    "def get_cabin_number(df):\n",
    "    return (\n",
    "        df[\"Cabin\"]\n",
    "        .str.replace(\"[A-Z]\", \"\")\n",
    "        .str.split(\" \")\n",
    "        .str[0].replace(\"\", np.nan)\n",
    "        .astype(float)\n",
    "    )\n",
    "\n",
    "g = (\n",
    "    sns.FacetGrid(train.assign(Cabin=get_cabin_number(train)), hue=\"Survived\")\n",
    "    .map(sns.distplot, \"Cabin\", kde=False, bins=10)\n",
    "    .set_ylabels(\"count\")\n",
    "    .add_legend()\n",
    ")"
   ]
  },
  {
   "cell_type": "markdown",
   "metadata": {},
   "source": [
    "#### FamilySize"
   ]
  },
  {
   "cell_type": "code",
   "execution_count": 41,
   "metadata": {},
   "outputs": [
    {
     "data": {
      "image/png": "[encoded data removed]",
      "text/plain": [
       "<Figure size 864x288 with 1 Axes>"
      ]
     },
     "metadata": {
      "needs_background": "light"
     },
     "output_type": "display_data"
    }
   ],
   "source": [
    "def get_family_size(df):\n",
    "    return df[\"Parch\"] + df[\"SibSp\"] + 1\n",
    "\n",
    "plt.figure(figsize=(12, 4))\n",
    "ax = sns.barplot(\n",
    "    data=train.assign(FamilySize=get_family_size(train)),\n",
    "    x=\"FamilySize\",\n",
    "    y=\"Survived\",\n",
    ")\n",
    "add_rates(ax)"
   ]
  },
  {
   "cell_type": "markdown",
   "metadata": {},
   "source": [
    "#### FamilyCat"
   ]
  },
  {
   "cell_type": "code",
   "execution_count": 42,
   "metadata": {},
   "outputs": [
    {
     "data": {
      "image/png": "[encoded data removed]",
      "text/plain": [
       "<Figure size 1080x720 with 6 Axes>"
      ]
     },
     "metadata": {
      "needs_background": "light"
     },
     "output_type": "display_data"
    }
   ],
   "source": [
    "def get_family_category(df):\n",
    "    return pd.cut(\n",
    "        get_family_size(df),\n",
    "        bins=[1, 2, 5, 8, 99],\n",
    "        labels=[\"Alone\", \"Small family\", \"Medium family\", \"Large family\"],\n",
    "        right=False,\n",
    "    )\n",
    "\n",
    "g = sns.catplot(\n",
    "    data=train.assign(FamilyCat=get_family_category(train)),\n",
    "    x=\"FamilyCat\",\n",
    "    y=\"Survived\",\n",
    "    col=\"Pclass\",\n",
    "    row=\"Sex\",\n",
    "    kind=\"bar\",\n",
    "    ci=95,\n",
    "    order=[\"Alone\", \"Small family\", \"Medium family\", \"Large family\"],\n",
    ")\n",
    "for ax in g.axes.flat:\n",
    "    add_rates(ax)"
   ]
  },
  {
   "cell_type": "markdown",
   "metadata": {},
   "source": [
    "#### Title\n",
    "\n",
    "The passenger's title can be extracted from their name, after the first comma and before the first full stop:"
   ]
  },
  {
   "cell_type": "code",
   "execution_count": 43,
   "metadata": {},
   "outputs": [
    {
     "data": {
      "text/plain": [
       "Mr              517\n",
       "Miss            182\n",
       "Mrs             125\n",
       "Master           40\n",
       "Dr                7\n",
       "Rev               6\n",
       "Col               2\n",
       "Major             2\n",
       "Mlle              2\n",
       "Mme               1\n",
       "Don               1\n",
       "Ms                1\n",
       "Lady              1\n",
       "the Countess      1\n",
       "Jonkheer          1\n",
       "Capt              1\n",
       "Sir               1\n",
       "Name: 0, dtype: int64"
      ]
     },
     "execution_count": 43,
     "metadata": {},
     "output_type": "execute_result"
    }
   ],
   "source": [
    "title = train[\"Name\"].str.extract(r\"^[^,]+, ([^.]+)\\.\")[0]\n",
    "title.value_counts()"
   ]
  },
  {
   "cell_type": "code",
   "execution_count": 44,
   "metadata": {},
   "outputs": [
    {
     "data": {
      "image/png": "[encoded data removed]",
      "text/plain": [
       "<Figure size 864x288 with 1 Axes>"
      ]
     },
     "metadata": {
      "needs_background": "light"
     },
     "output_type": "display_data"
    }
   ],
   "source": [
    "plt.figure(figsize=(12, 4))\n",
    "ax = sns.barplot(\n",
    "    data=train.assign(title=title),\n",
    "    x=\"title\",\n",
    "    y=\"Survived\",\n",
    ")\n",
    "add_rates(ax)"
   ]
  },
  {
   "cell_type": "markdown",
   "metadata": {},
   "source": [
    "Combining the smaller groups:"
   ]
  },
  {
   "cell_type": "code",
   "execution_count": 48,
   "metadata": {},
   "outputs": [
    {
     "data": {
      "image/png": "[encoded data removed]",
      "text/plain": [
       "<Figure size 864x288 with 1 Axes>"
      ]
     },
     "metadata": {
      "needs_background": "light"
     },
     "output_type": "display_data"
    }
   ],
   "source": [
    "def get_title(df):\n",
    "    title = df[\"Name\"].str.extract(r\"^[^,]+, ([^.]+)\\.\")[0]\n",
    "    keep_titles = [\"Mr\", \"Mrs\", \"Miss\", \"Master\"]\n",
    "    drop_titles = [t for t in title.unique() if t not in keep_titles]\n",
    "    \n",
    "    return (\n",
    "        df[\"Name\"]\n",
    "        .str.extract(r\"^[^,]+, ([^.]+)\\.\")[0]  # Get the title\n",
    "        .replace({\n",
    "            **{t: \"Other\" for t in drop_titles},\n",
    "        })\n",
    "    )\n",
    "\n",
    "plt.figure(figsize=(12, 4))\n",
    "ax = sns.barplot(\n",
    "    data=train.assign(Title=get_title(train)),\n",
    "    x=\"Title\",\n",
    "    y=\"Survived\",\n",
    ")\n",
    "add_rates(ax)\n",
    "plt.show()"
   ]
  },
  {
   "cell_type": "markdown",
   "metadata": {},
   "source": [
    "#### Other\n",
    "\n",
    "Other engineered features are also possible, e.g. using ticket number to establish a group size, which would also include domestic staff such as maids, cooks and drivers (that travelled along with their employer). Such analysis is not attempted here."
   ]
  },
  {
   "cell_type": "markdown",
   "metadata": {},
   "source": [
    "### Correlation and feature importance"
   ]
  },
  {
   "cell_type": "markdown",
   "metadata": {},
   "source": [
    "Examine correlation between features and the target, first converting all the features of interest to numerical types, using some basic ordinal encodings:"
   ]
  },
  {
   "cell_type": "code",
   "execution_count": 73,
   "metadata": {},
   "outputs": [
    {
     "data": {
      "text/html": [
       "<div>\n",
       "<style scoped>\n",
       "    .dataframe tbody tr th:only-of-type {\n",
       "        vertical-align: middle;\n",
       "    }\n",
       "\n",
       "    .dataframe tbody tr th {\n",
       "        vertical-align: top;\n",
       "    }\n",
       "\n",
       "    .dataframe thead th {\n",
       "        text-align: right;\n",
       "    }\n",
       "</style>\n",
       "<table border=\"1\" class=\"dataframe\">\n",
       "  <thead>\n",
       "    <tr style=\"text-align: right;\">\n",
       "      <th></th>\n",
       "      <th>Survived</th>\n",
       "      <th>Pclass</th>\n",
       "      <th>Sex</th>\n",
       "      <th>Age</th>\n",
       "      <th>SibSp</th>\n",
       "      <th>Parch</th>\n",
       "      <th>Fare</th>\n",
       "      <th>Embarked</th>\n",
       "      <th>AgeGroup</th>\n",
       "      <th>CabinNumber</th>\n",
       "      <th>Deck</th>\n",
       "      <th>FamilyCat</th>\n",
       "      <th>FamilySize</th>\n",
       "      <th>MultiCabins</th>\n",
       "      <th>Title</th>\n",
       "    </tr>\n",
       "    <tr>\n",
       "      <th>PassengerId</th>\n",
       "      <th></th>\n",
       "      <th></th>\n",
       "      <th></th>\n",
       "      <th></th>\n",
       "      <th></th>\n",
       "      <th></th>\n",
       "      <th></th>\n",
       "      <th></th>\n",
       "      <th></th>\n",
       "      <th></th>\n",
       "      <th></th>\n",
       "      <th></th>\n",
       "      <th></th>\n",
       "      <th></th>\n",
       "      <th></th>\n",
       "    </tr>\n",
       "  </thead>\n",
       "  <tbody>\n",
       "    <tr>\n",
       "      <th>1</th>\n",
       "      <td>0</td>\n",
       "      <td>3</td>\n",
       "      <td>0</td>\n",
       "      <td>22.0</td>\n",
       "      <td>1</td>\n",
       "      <td>0</td>\n",
       "      <td>3.305054</td>\n",
       "      <td>0.0</td>\n",
       "      <td>1.0</td>\n",
       "      <td>NaN</td>\n",
       "      <td>NaN</td>\n",
       "      <td>1</td>\n",
       "      <td>2</td>\n",
       "      <td>NaN</td>\n",
       "      <td>0</td>\n",
       "    </tr>\n",
       "    <tr>\n",
       "      <th>2</th>\n",
       "      <td>1</td>\n",
       "      <td>1</td>\n",
       "      <td>1</td>\n",
       "      <td>38.0</td>\n",
       "      <td>1</td>\n",
       "      <td>0</td>\n",
       "      <td>4.513968</td>\n",
       "      <td>1.0</td>\n",
       "      <td>1.0</td>\n",
       "      <td>85.0</td>\n",
       "      <td>3.0</td>\n",
       "      <td>1</td>\n",
       "      <td>2</td>\n",
       "      <td>0.0</td>\n",
       "      <td>4</td>\n",
       "    </tr>\n",
       "    <tr>\n",
       "      <th>3</th>\n",
       "      <td>1</td>\n",
       "      <td>3</td>\n",
       "      <td>1</td>\n",
       "      <td>26.0</td>\n",
       "      <td>0</td>\n",
       "      <td>0</td>\n",
       "      <td>3.329522</td>\n",
       "      <td>0.0</td>\n",
       "      <td>1.0</td>\n",
       "      <td>NaN</td>\n",
       "      <td>NaN</td>\n",
       "      <td>0</td>\n",
       "      <td>1</td>\n",
       "      <td>NaN</td>\n",
       "      <td>3</td>\n",
       "    </tr>\n",
       "    <tr>\n",
       "      <th>4</th>\n",
       "      <td>1</td>\n",
       "      <td>1</td>\n",
       "      <td>1</td>\n",
       "      <td>35.0</td>\n",
       "      <td>1</td>\n",
       "      <td>0</td>\n",
       "      <td>4.291828</td>\n",
       "      <td>0.0</td>\n",
       "      <td>1.0</td>\n",
       "      <td>123.0</td>\n",
       "      <td>3.0</td>\n",
       "      <td>1</td>\n",
       "      <td>2</td>\n",
       "      <td>0.0</td>\n",
       "      <td>4</td>\n",
       "    </tr>\n",
       "    <tr>\n",
       "      <th>5</th>\n",
       "      <td>0</td>\n",
       "      <td>3</td>\n",
       "      <td>0</td>\n",
       "      <td>35.0</td>\n",
       "      <td>0</td>\n",
       "      <td>0</td>\n",
       "      <td>3.333989</td>\n",
       "      <td>0.0</td>\n",
       "      <td>1.0</td>\n",
       "      <td>NaN</td>\n",
       "      <td>NaN</td>\n",
       "      <td>0</td>\n",
       "      <td>1</td>\n",
       "      <td>NaN</td>\n",
       "      <td>0</td>\n",
       "    </tr>\n",
       "  </tbody>\n",
       "</table>\n",
       "</div>"
      ],
      "text/plain": [
       "             Survived  Pclass  Sex   Age  SibSp  Parch      Fare  Embarked  \\\n",
       "PassengerId                                                                  \n",
       "1                   0       3    0  22.0      1      0  3.305054       0.0   \n",
       "2                   1       1    1  38.0      1      0  4.513968       1.0   \n",
       "3                   1       3    1  26.0      0      0  3.329522       0.0   \n",
       "4                   1       1    1  35.0      1      0  4.291828       0.0   \n",
       "5                   0       3    0  35.0      0      0  3.333989       0.0   \n",
       "\n",
       "             AgeGroup  CabinNumber  Deck  FamilyCat  FamilySize  MultiCabins  \\\n",
       "PassengerId                                                                    \n",
       "1                 1.0          NaN   NaN          1           2          NaN   \n",
       "2                 1.0         85.0   3.0          1           2          0.0   \n",
       "3                 1.0          NaN   NaN          0           1          NaN   \n",
       "4                 1.0        123.0   3.0          1           2          0.0   \n",
       "5                 1.0          NaN   NaN          0           1          NaN   \n",
       "\n",
       "             Title  \n",
       "PassengerId         \n",
       "1                0  \n",
       "2                4  \n",
       "3                3  \n",
       "4                4  \n",
       "5                0  "
      ]
     },
     "execution_count": 73,
     "metadata": {},
     "output_type": "execute_result"
    }
   ],
   "source": [
    "def preprocess(data):\n",
    "    # Create a copy of the data with engineered columns and transforms\n",
    "    data = data.assign(\n",
    "        Fare=transform_fare(data[\"Fare\"]),\n",
    "        AgeGroup=get_age_group(data),\n",
    "        CabinNumber=get_cabin_number(data),\n",
    "        Deck=get_deck(data),\n",
    "        FamilyCat=get_family_category(data),\n",
    "        FamilySize=get_family_size(data),\n",
    "        MultiCabins=get_multiple_cabins(data),\n",
    "        Title=get_title(data),\n",
    "    )\n",
    "\n",
    "    # Manually apply ordinal encoding\n",
    "    data = data.replace({\n",
    "        \"Sex\": {\"male\": 0, \"female\": 1},\n",
    "        \"Embarked\": {\"S\": 0, \"C\": 1, \"Q\": 2},\n",
    "        \"AgeGroup\": {\"Child\": 0, \"Younger adult\": 1, \"Older adult\": 0}, ###\n",
    "        \"Deck\": {\"A\": 1, \"B\": 2, \"C\": 3, \"D\": 4, \"E\": 5, \"F/G\": 6},\n",
    "        \"FamilyCat\": {\"Alone\": 0, \"Small family\": 1, \"Medium family\": 2, \"Large family\": 3},\n",
    "        \"MultiCabins\": {\"single\": 0, \"multiple\": 1},\n",
    "        \"Title\": {\"Mr\": 0, \"Other\": 1, \"Master\": 2, \"Miss\": 3, \"Mrs\": 4},\n",
    "    }).drop([\n",
    "        \"Name\",\n",
    "        \"Ticket\",\n",
    "        \"Cabin\",\n",
    "    ], axis=1)\n",
    "\n",
    "    return data\n",
    "    \n",
    "train_ = preprocess(train)\n",
    "train_.head()"
   ]
  },
  {
   "cell_type": "markdown",
   "metadata": {},
   "source": [
    "Check the correlation of each feature to the target.\n",
    "\n",
    "Suspect (based on the above exploratory data analysis) that some of the correlation won't be linear, so take both Pearson and Spearman rank."
   ]
  },
  {
   "cell_type": "code",
   "execution_count": 50,
   "metadata": {},
   "outputs": [
    {
     "name": "stdout",
     "output_type": "stream",
     "text": [
      "Pearson ordered features\n"
     ]
    },
    {
     "data": {
      "text/plain": [
       "Survived       1.000000\n",
       "Title          0.559697\n",
       "Sex            0.543351\n",
       "Pclass        -0.338481\n",
       "Fare           0.321510\n",
       "Embarked       0.108669\n",
       "FamilyCat      0.083976\n",
       "Parch          0.081629\n",
       "AgeGroup      -0.079162\n",
       "Age           -0.077221\n",
       "CabinNumber   -0.054869\n",
       "Deck           0.048245\n",
       "SibSp         -0.035322\n",
       "FamilySize     0.016639\n",
       "MultiCabins   -0.011656\n",
       "Name: Survived, dtype: float64"
      ]
     },
     "execution_count": 50,
     "metadata": {},
     "output_type": "execute_result"
    }
   ],
   "source": [
    "corr = train_.corr()\n",
    "ordered_features = corr[\"Survived\"].abs().sort_values(ascending=False).index\n",
    "\n",
    "print(\"Pearson ordered features\")\n",
    "corr[\"Survived\"].loc[ordered_features]"
   ]
  },
  {
   "cell_type": "code",
   "execution_count": 51,
   "metadata": {},
   "outputs": [
    {
     "name": "stdout",
     "output_type": "stream",
     "text": [
      "Spearman rank ordered features\n"
     ]
    },
    {
     "data": {
      "text/plain": [
       "Survived       1.000000\n",
       "Title          0.560752\n",
       "Sex            0.543351\n",
       "Pclass        -0.339668\n",
       "Fare           0.323736\n",
       "FamilySize     0.165463\n",
       "FamilyCat      0.159663\n",
       "Parch          0.138266\n",
       "Embarked       0.137869\n",
       "SibSp          0.088879\n",
       "AgeGroup      -0.079162\n",
       "CabinNumber   -0.057643\n",
       "Age           -0.052565\n",
       "Deck           0.047774\n",
       "MultiCabins   -0.011656\n",
       "Name: Survived, dtype: float64"
      ]
     },
     "execution_count": 51,
     "metadata": {},
     "output_type": "execute_result"
    }
   ],
   "source": [
    "corr = train_.corr(\"spearman\")\n",
    "ordered_features = corr[\"Survived\"].abs().sort_values(ascending=False).index\n",
    "\n",
    "print(\"Spearman rank ordered features\")\n",
    "corr[\"Survived\"].loc[ordered_features]"
   ]
  },
  {
   "cell_type": "markdown",
   "metadata": {},
   "source": [
    "Initial findings:\n",
    "\n",
    "* Title, Sex, Pclass and Fare show the highest correlation in both cases, although it is likely Pclass and Fare are highly correlated to each other (see below). Embarked is also slightly correlated with survival rate.\n",
    "* Age (or AgeGroup) and FamilySize (or FamilyCat, Parch or SibSp) do not show strong correlation according to these metrics, however the exploratory data analysis showed they were correlated to survival rate when other features were taken into account. Therefore these features should add value, especailly in a non-linear model like a tree.\n",
    "* CabinNumber, Deck and MultiCabins do not seem well correlated to the survival rate.\n",
    "\n",
    "Another way of estimating the usefulness of features is to quickly fit a tree-based model (e.g. a random forest model), then look at the feature importances (although note that some features are correlated, so this won't be a completely accurate picture)."
   ]
  },
  {
   "cell_type": "code",
   "execution_count": 98,
   "metadata": {},
   "outputs": [
    {
     "data": {
      "text/plain": [
       "Fare           0.208933\n",
       "Title          0.178909\n",
       "Age            0.176274\n",
       "Sex            0.126207\n",
       "Pclass         0.057254\n",
       "CabinNumber    0.052084\n",
       "FamilySize     0.040470\n",
       "Deck           0.036118\n",
       "Embarked       0.030109\n",
       "FamilyCat      0.028244\n",
       "SibSp          0.022869\n",
       "AgeGroup       0.020632\n",
       "Parch          0.017180\n",
       "MultiCabins    0.004716\n",
       "dtype: float64"
      ]
     },
     "execution_count": 98,
     "metadata": {},
     "output_type": "execute_result"
    }
   ],
   "source": [
    "from sklearn.ensemble import RandomForestClassifier\n",
    "\n",
    "classifier = RandomForestClassifier(n_estimators=100)\n",
    "\n",
    "X = train_.drop(columns=\"Survived\").fillna(0)  # Just fill NaNs with 0 at this stage\n",
    "y = train_[\"Survived\"]\n",
    "classifier.fit(X[:700], y[:700])\n",
    "\n",
    "pd.Series(classifier.feature_importances_, index=X.columns).sort_values(ascending=False)"
   ]
  },
  {
   "cell_type": "markdown",
   "metadata": {},
   "source": [
    "Further findings:\n",
    "\n",
    "* As before - Fare, Title, Sex and Pclass are useful predictors of the target.\n",
    "* However - Age also shows up highly on this list (as expected for a tree-based model). CabinNumber, FamilySize and Deck now also seem reasonably important.\n",
    "* Embarked now appears to be less important, and as before MultiCabins does not seem useful in predicting the target.\n",
    "\n",
    "To understand the correlation betwen features themselves, the correlation matrix can be visualised as a heatmap."
   ]
  },
  {
   "cell_type": "code",
   "execution_count": 52,
   "metadata": {},
   "outputs": [
    {
     "data": {
      "image/png": "[encoded data removed]",
      "text/plain": [
       "<Figure size 720x576 with 2 Axes>"
      ]
     },
     "metadata": {
      "needs_background": "light"
     },
     "output_type": "display_data"
    }
   ],
   "source": [
    "plt.figure(figsize=(10, 8))\n",
    "ax = sns.heatmap(\n",
    "    corr,\n",
    "    mask=np.triu(np.ones_like(corr)),\n",
    "    cmap=sns.diverging_palette(240, 10, as_cmap=True),\n",
    "    annot=True,\n",
    "    fmt=\"0.1g\",\n",
    ")"
   ]
  },
  {
   "cell_type": "markdown",
   "metadata": {},
   "source": [
    "Findings:\n",
    "\n",
    "* All of the derived features are highly correlated to their parent features, as would be expected. As are Title and Sex. Fare and Pclass are also highly correlated, as discussed above.\n",
    "* FamilySize (or FamilyCat) and Age (or AgeGroup) show some correlation, which makes sense. As do FamilySize and MultiCabins, and Deck and Fare.\n",
    "\n",
    "Some models perform poorly with highly-correlated features, so a dimensionality reduction technique such as PCA may be beneficial.\n",
    "\n",
    "Another way to visualise the correlation is to perform hierarchical clustering on the Spearman rank-order correlations:"
   ]
  },
  {
   "cell_type": "code",
   "execution_count": 112,
   "metadata": {},
   "outputs": [
    {
     "data": {
      "image/png": "[encoded data removed]",
      "text/plain": [
       "<Figure size 432x288 with 1 Axes>"
      ]
     },
     "metadata": {
      "needs_background": "light"
     },
     "output_type": "display_data"
    }
   ],
   "source": [
    "from scipy.cluster import hierarchy\n",
    "\n",
    "corr = X.corr(\"spearman\")\n",
    "corr_linkage = hierarchy.ward(corr)\n",
    "dendro = hierarchy.dendrogram(corr_linkage, labels=X.columns, leaf_rotation=90)"
   ]
  },
  {
   "cell_type": "markdown",
   "metadata": {},
   "source": [
    "Taking a arbitrary distance of 2 on the y-axis, there are 6 clusters of features. These are approximately groupings containing the prevously-identified useful (or unuseful) features:\n",
    "\n",
    "Clusters containing a useful feature (or features):\n",
    "* Pclass\n",
    "* Age (and related AgeGroup)\n",
    "* Fare (and CabinNumber, Deck)\n",
    "* Sex and Title\n",
    "\n",
    "Clusters of less useful features:\n",
    "* FamilySize (and related features)\n",
    "* Embarked and MultiCabins\n",
    "\n",
    "Taking account of all the above, it is suggested the following features are used for modelling:\n",
    "\n",
    "1. Pclass\n",
    "2. Age or AgeGroup\n",
    "3. Fare\n",
    "4. Sex\n",
    "5. Title (although this is correlated with Sex)\n",
    "6. FamilySize or FamilyCat\n",
    "7. Embarked"
   ]
  },
  {
   "cell_type": "markdown",
   "metadata": {},
   "source": [
    "## Model the data\n",
    "\n",
    "Summary of modelling steps:\n",
    "\n",
    "1. Train/test split\n",
    "    * How should the training data be split into train/validation/test\n",
    "    * Should the data be shuffled/stratified?\n",
    "\n",
    "\n",
    "2. Expectations\n",
    "    * What is the baseline score? (the model should do better than this)\n",
    "    * Is it possible to devise a simple expert system? (could be naively used to give coefficients or feature importances)\n",
    "    * What models are available for this problem?\n",
    "\n",
    "\n",
    "3. Initial training\n",
    "    * Choose initial hyperparameter values for each model for a quick comparison\n",
    "    * Score each model\n",
    "    * What model considerations are there? e.g.\n",
    "        - execution time\n",
    "        - ease of tuning\n",
    "        - stability\n",
    "    * What are the feature importances?\n",
    "        - should some be removed?\n",
    "        - should deminsionality be reduced?\n",
    "    * What types of errors do the models make?\n",
    "    * Shortlist promising models\n",
    "\n",
    "\n",
    "4. Fine-tuning\n",
    "    * How will hyperparameters be tuned? e.g.\n",
    "        - Exhaustive grid search\n",
    "        - Random grid search\n",
    "        - Other methods\n",
    "    * How will model performance be visualised and debugged?\n",
    "    * Bias/variance trade-off\n",
    "        - can use learning curves\n",
    "        - would more training data or extra features improve the model?\n",
    "        - has a plataeu been reached?\n",
    "    * Could a stacked ensemble model be used to further improve performance?\n",
    "    * Check generalisation error on the test set"
   ]
  },
  {
   "cell_type": "markdown",
   "metadata": {},
   "source": [
    "### Set aside test set in the training data\n",
    "\n",
    "Although Kaggle provided a test set, this is evaluated on their servers, so set aside another modest test set to estimate generalisation error before submitting to Kaggle. Also set aside some validation data for cases where cross-validation is not used. Before submissions, the model can be re-trained on all the training data."
   ]
  },
  {
   "cell_type": "code",
   "execution_count": 249,
   "metadata": {},
   "outputs": [],
   "source": [
    "from sklearn.model_selection import train_test_split\n",
    "\n",
    "X = train.drop(columns=\"Survived\")\n",
    "y = train[\"Survived\"]\n",
    "\n",
    "X_train_full, X_test, y_train_full, y_test = train_test_split(X, y, test_size=0.10, stratify=y, random_state=1234)\n",
    "X_train, X_val, y_train, y_val = train_test_split(X_train_full, y_train_full, test_size=0.20, stratify=y_train_full, random_state=1234)"
   ]
  },
  {
   "cell_type": "markdown",
   "metadata": {},
   "source": [
    "### Baseline scores\n",
    "\n",
    "62% of passengers died, so could predict every passenger died and get a model with on average 62% accuracy. Therefore any other model should do better than this."
   ]
  },
  {
   "cell_type": "code",
   "execution_count": 250,
   "metadata": {},
   "outputs": [
    {
     "data": {
      "text/plain": [
       "0.6149068322981367"
      ]
     },
     "execution_count": 250,
     "metadata": {},
     "output_type": "execute_result"
    }
   ],
   "source": [
    "from sklearn.dummy import DummyClassifier\n",
    "\n",
    "classifier = DummyClassifier(strategy=\"most_frequent\")\n",
    "classifier.fit(X_train, y_train)\n",
    "classifier.score(X_val, y_val)"
   ]
  },
  {
   "cell_type": "markdown",
   "metadata": {},
   "source": [
    "A better attempt is to train a logistic regression model using the top three features identified above: Title, Sex and Pclass:"
   ]
  },
  {
   "cell_type": "code",
   "execution_count": 251,
   "metadata": {},
   "outputs": [
    {
     "data": {
      "text/plain": [
       "0.7865217391304348"
      ]
     },
     "execution_count": 251,
     "metadata": {},
     "output_type": "execute_result"
    }
   ],
   "source": [
    "from sklearn.compose import make_column_transformer\n",
    "from sklearn.linear_model import LogisticRegression\n",
    "from sklearn.model_selection import cross_validate\n",
    "from sklearn.pipeline import make_pipeline\n",
    "from sklearn.preprocessing import OrdinalEncoder\n",
    "from utils import AddFeature\n",
    "\n",
    "add_features = make_pipeline(\n",
    "    AddFeature(\"Title\", get_title),\n",
    ")\n",
    "\n",
    "select_transform_columns = make_column_transformer(\n",
    "    (OrdinalEncoder(categories=[\n",
    "        [\"Mr\", \"Other\", \"Master\", \"Miss\", \"Mrs\"],\n",
    "        [\"male\", \"female\"],\n",
    "    ]), [\"Title\", \"Sex\"]),\n",
    "    (\"passthrough\", [\"Pclass\"]),\n",
    ")\n",
    "\n",
    "pipeline = make_pipeline(\n",
    "    add_features,\n",
    "    select_transform_columns,\n",
    "    LogisticRegression(),\n",
    ")\n",
    "\n",
    "cv = cross_validate(pipeline, X_train_full, y_train_full, cv=5)\n",
    "cv[\"test_score\"].mean()"
   ]
  },
  {
   "cell_type": "markdown",
   "metadata": {},
   "source": [
    "This models scores 79%, which is a big improvement on the dummy classifier. The final model should be getting a score higher than this, to be worth bothering with."
   ]
  },
  {
   "cell_type": "markdown",
   "metadata": {},
   "source": [
    "### Initial comparison of models\n",
    "\n",
    "Models to be evaluated are:\n",
    "\n",
    "* Logistic regression\n",
    "* Support vector machines\n",
    "    - Linear SVC\n",
    "    - SVC (polynomial kernel and rbf kernel)\n",
    "* Decision trees\n",
    "* Nearest neighbours\n",
    "    - k-nearest neighbours vote\n",
    "* Neural network\n",
    "    - Simple multi-layer perceptron\n",
    "* Ensemble methods\n",
    "    - Random forest classifier\n",
    "    - Gradient boosting classifier\n",
    "    - AdaBoost\n",
    "    - XGBoost\n",
    "\n",
    "Original features to be considered are:\n",
    "* Pclass\n",
    "* Sex (with ordinal encoding)\n",
    "* Fare (with log transform)\n",
    "* Embarked (with one-hot encoding)\n",
    "\n",
    "Engineered features to be considered are:\n",
    "* AgeGroup (with one-hot encoding)\n",
    "* FamilyCat (with one-hot encoding)\n",
    "* Title (with ordinal encoding)\n",
    "\n",
    "Ordinal encodings are used where there was a clear ordering to the categories and survival rate. One-hot encodings are used where this was less clear.\n",
    "\n",
    "There are some missing values, predominantly in the AgeGroup feature, although these are not that numerous, so impute but choosing the most frequent category."
   ]
  },
  {
   "cell_type": "code",
   "execution_count": 252,
   "metadata": {},
   "outputs": [],
   "source": [
    "from sklearn.compose import make_column_selector\n",
    "from sklearn.decomposition import PCA\n",
    "from sklearn.impute import SimpleImputer\n",
    "from sklearn.pipeline import Pipeline\n",
    "from sklearn.preprocessing import FunctionTransformer, OneHotEncoder\n",
    "\n",
    "add_features = make_pipeline(\n",
    "    AddFeature(\"AgeGroup\", get_age_group),\n",
    "    AddFeature(\"FamilyCat\", get_family_category),\n",
    "    AddFeature(\"Title\", get_title),\n",
    ")\n",
    "\n",
    "ordinal_encodings = [\n",
    "    (\"Title\", [\"Mr\", \"Other\", \"Master\", \"Miss\", \"Mrs\"]),\n",
    "    (\"Sex\", [\"male\", \"female\"]),\n",
    "]\n",
    "ordinal_columns, ordinal_categories = zip(*ordinal_encodings)\n",
    "ordinal_encoder = make_pipeline(\n",
    "    SimpleImputer(strategy=\"most_frequent\"),\n",
    "    OrdinalEncoder(categories=ordinal_categories)\n",
    ")\n",
    "\n",
    "onehot_columns = [\n",
    "    \"Embarked\",\n",
    "    \"AgeGroup\",\n",
    "    \"FamilyCat\",\n",
    "]\n",
    "onehot_encoder = make_pipeline(\n",
    "    SimpleImputer(strategy=\"most_frequent\"),\n",
    "    OneHotEncoder(),\n",
    ")\n",
    "\n",
    "fare_transformer = make_pipeline(\n",
    "    FunctionTransformer(transform_fare),\n",
    "    SimpleImputer(strategy=\"median\"),\n",
    ")\n",
    "\n",
    "select_transform_columns = make_column_transformer(\n",
    "    (ordinal_encoder, ordinal_columns),\n",
    "    (onehot_encoder, onehot_columns),\n",
    "    (fare_transformer, [\"Fare\"]),\n",
    "    (SimpleImputer(strategy=\"most_frequent\"), [\"Pclass\"]),\n",
    ")\n",
    "\n",
    "dimensionality_reduction = PCA(n_components=7)\n",
    "\n",
    "pipeline = Pipeline([\n",
    "    (\"add_features\", add_features),\n",
    "    (\"select_transform\", select_transform_columns),\n",
    "    (\"dim_reduction\", dimensionality_reduction),\n",
    "    (\"classifier\", LogisticRegression()),\n",
    "])"
   ]
  },
  {
   "cell_type": "markdown",
   "metadata": {},
   "source": [
    "Run a stratified cross-validation search using each of the candidate classifiers:"
   ]
  },
  {
   "cell_type": "code",
   "execution_count": 253,
   "metadata": {},
   "outputs": [],
   "source": [
    "from sklearn.model_selection import GridSearchCV\n",
    "#from sklego.pipeline import DebugPipeline\n",
    "\n",
    "from sklearn.ensemble import AdaBoostClassifier, GradientBoostingClassifier, RandomForestClassifier\n",
    "from sklearn.neighbors import KNeighborsClassifier\n",
    "from sklearn.neural_network import MLPClassifier\n",
    "from sklearn.svm import SVC, LinearSVC\n",
    "from sklearn.tree import DecisionTreeClassifier\n",
    "from xgboost import XGBClassifier\n",
    "\n",
    "grid_search = GridSearchCV(\n",
    "    pipeline,\n",
    "    #DebugPipeline(pipeline.steps, log_callback='default'),\n",
    "    {\n",
    "        \"classifier\": [\n",
    "            LogisticRegression(),\n",
    "            LinearSVC(loss=\"hinge\", max_iter=1e5, random_state=1234),\n",
    "            SVC(kernel=\"poly\", degree=5, random_state=1234),\n",
    "            SVC(kernel=\"rbf\", random_state=1234),\n",
    "            DecisionTreeClassifier(max_depth=10, random_state=1234),\n",
    "            KNeighborsClassifier(),\n",
    "            MLPClassifier(hidden_layer_sizes=(20, 20, 20), solver=\"sgd\", learning_rate_init=0.1, max_iter=20, random_state=1234),\n",
    "            RandomForestClassifier(n_estimators=500, max_depth=5, random_state=1234),\n",
    "            GradientBoostingClassifier(random_state=1234),\n",
    "            AdaBoostClassifier(random_state=1234),\n",
    "            XGBClassifier(random_state=1234),\n",
    "        ],\n",
    "    },\n",
    "    cv=5,\n",
    "    verbose=1,\n",
    ")"
   ]
  },
  {
   "cell_type": "code",
   "execution_count": 254,
   "metadata": {},
   "outputs": [
    {
     "name": "stdout",
     "output_type": "stream",
     "text": [
      "Fitting 5 folds for each of 11 candidates, totalling 55 fits\n"
     ]
    },
    {
     "name": "stderr",
     "output_type": "stream",
     "text": [
      "[Parallel(n_jobs=-1)]: Using backend ThreadingBackend with 8 concurrent workers.\n",
      "/home/james/.virtualenvs/data/lib/python3.8/site-packages/sklearn/neural_network/_multilayer_perceptron.py:582: ConvergenceWarning: Stochastic Optimizer: Maximum iterations (20) reached and the optimization hasn't converged yet.\n",
      "  warnings.warn(\n",
      "/home/james/.virtualenvs/data/lib/python3.8/site-packages/sklearn/neural_network/_multilayer_perceptron.py:582: ConvergenceWarning: Stochastic Optimizer: Maximum iterations (20) reached and the optimization hasn't converged yet.\n",
      "  warnings.warn(\n",
      "/home/james/.virtualenvs/data/lib/python3.8/site-packages/sklearn/neural_network/_multilayer_perceptron.py:582: ConvergenceWarning: Stochastic Optimizer: Maximum iterations (20) reached and the optimization hasn't converged yet.\n",
      "  warnings.warn(\n",
      "/home/james/.virtualenvs/data/lib/python3.8/site-packages/sklearn/neural_network/_multilayer_perceptron.py:582: ConvergenceWarning: Stochastic Optimizer: Maximum iterations (20) reached and the optimization hasn't converged yet.\n",
      "  warnings.warn(\n",
      "/home/james/.virtualenvs/data/lib/python3.8/site-packages/sklearn/neural_network/_multilayer_perceptron.py:582: ConvergenceWarning: Stochastic Optimizer: Maximum iterations (20) reached and the optimization hasn't converged yet.\n",
      "  warnings.warn(\n",
      "[Parallel(n_jobs=-1)]: Done  34 tasks      | elapsed:   16.0s\n",
      "[Parallel(n_jobs=-1)]: Done  55 out of  55 | elapsed:   42.1s finished\n"
     ]
    }
   ],
   "source": [
    "# Do the grid search using all available cores\n",
    "from joblib import parallel_backend\n",
    "with parallel_backend(\"threading\", n_jobs=-1):\n",
    "    grid_search.fit(X_train_full, y_train_full)"
   ]
  },
  {
   "cell_type": "markdown",
   "metadata": {},
   "source": [
    "Return the mean scores in order (with standard deviation to give an indication of the stability of the model):"
   ]
  },
  {
   "cell_type": "code",
   "execution_count": 255,
   "metadata": {},
   "outputs": [
    {
     "data": {
      "text/html": [
       "<div>\n",
       "<style scoped>\n",
       "    .dataframe tbody tr th:only-of-type {\n",
       "        vertical-align: middle;\n",
       "    }\n",
       "\n",
       "    .dataframe tbody tr th {\n",
       "        vertical-align: top;\n",
       "    }\n",
       "\n",
       "    .dataframe thead th {\n",
       "        text-align: right;\n",
       "    }\n",
       "</style>\n",
       "<table border=\"1\" class=\"dataframe\">\n",
       "  <thead>\n",
       "    <tr style=\"text-align: right;\">\n",
       "      <th></th>\n",
       "      <th>Classifier</th>\n",
       "      <th>Mean CV score</th>\n",
       "      <th>Std CV score</th>\n",
       "      <th>Train time</th>\n",
       "      <th>Predict time</th>\n",
       "    </tr>\n",
       "  </thead>\n",
       "  <tbody>\n",
       "    <tr>\n",
       "      <th>0</th>\n",
       "      <td>RandomForestClassifier(max_depth=5, n_estimators=500, random_state=1234)</td>\n",
       "      <td>0.830225</td>\n",
       "      <td>0.018994</td>\n",
       "      <td>30.578735</td>\n",
       "      <td>0.712374</td>\n",
       "    </tr>\n",
       "    <tr>\n",
       "      <th>1</th>\n",
       "      <td>KNeighborsClassifier()</td>\n",
       "      <td>0.826483</td>\n",
       "      <td>0.018116</td>\n",
       "      <td>1.272767</td>\n",
       "      <td>1.224338</td>\n",
       "    </tr>\n",
       "    <tr>\n",
       "      <th>2</th>\n",
       "      <td>MLPClassifier(hidden_layer_sizes=(20, 20, 20), learning_rate_init=0.1,\\n              max_iter=20, random_state=1234, solver='sgd')</td>\n",
       "      <td>0.820241</td>\n",
       "      <td>0.022005</td>\n",
       "      <td>7.310506</td>\n",
       "      <td>0.462887</td>\n",
       "    </tr>\n",
       "    <tr>\n",
       "      <th>3</th>\n",
       "      <td>SVC(random_state=1234)</td>\n",
       "      <td>0.819014</td>\n",
       "      <td>0.018098</td>\n",
       "      <td>1.564233</td>\n",
       "      <td>0.470615</td>\n",
       "    </tr>\n",
       "    <tr>\n",
       "      <th>4</th>\n",
       "      <td>GradientBoostingClassifier(random_state=1234)</td>\n",
       "      <td>0.818998</td>\n",
       "      <td>0.026931</td>\n",
       "      <td>8.842531</td>\n",
       "      <td>0.139894</td>\n",
       "    </tr>\n",
       "    <tr>\n",
       "      <th>5</th>\n",
       "      <td>AdaBoostClassifier(random_state=1234)</td>\n",
       "      <td>0.812741</td>\n",
       "      <td>0.007728</td>\n",
       "      <td>3.175514</td>\n",
       "      <td>0.289473</td>\n",
       "    </tr>\n",
       "    <tr>\n",
       "      <th>6</th>\n",
       "      <td>LinearSVC(loss='hinge', max_iter=100000.0, random_state=1234)</td>\n",
       "      <td>0.807741</td>\n",
       "      <td>0.008269</td>\n",
       "      <td>1.455766</td>\n",
       "      <td>0.427603</td>\n",
       "    </tr>\n",
       "    <tr>\n",
       "      <th>7</th>\n",
       "      <td>LogisticRegression()</td>\n",
       "      <td>0.806522</td>\n",
       "      <td>0.026265</td>\n",
       "      <td>1.449457</td>\n",
       "      <td>0.379718</td>\n",
       "    </tr>\n",
       "    <tr>\n",
       "      <th>8</th>\n",
       "      <td>XGBClassifier(base_score=None, booster=None, colsample_bylevel=None,\\n              colsample_bynode=None, colsample_bytree=None, gamma=None,\\n              gpu_id=None, importance_type='gain', interaction_constraints=None,\\n              learning_rate=None, max_delta_step=None, max_depth=None,\\n              min_child_weight=None, missing=nan, monotone_constraints=None,\\n              n_estimators=100, n_jobs=None, num_parallel_tree=None,\\n              random_state=1234, reg_alpha=None, reg_lambda=None,\\n              scale_pos_weight=None, subsample=None, tree_method=None,\\n              validate_parameters=None, verbosity=None)</td>\n",
       "      <td>0.802772</td>\n",
       "      <td>0.026184</td>\n",
       "      <td>2.360001</td>\n",
       "      <td>0.114777</td>\n",
       "    </tr>\n",
       "    <tr>\n",
       "      <th>9</th>\n",
       "      <td>DecisionTreeClassifier(max_depth=10, random_state=1234)</td>\n",
       "      <td>0.797803</td>\n",
       "      <td>0.027393</td>\n",
       "      <td>1.588324</td>\n",
       "      <td>0.502410</td>\n",
       "    </tr>\n",
       "    <tr>\n",
       "      <th>10</th>\n",
       "      <td>SVC(degree=5, kernel='poly', random_state=1234)</td>\n",
       "      <td>0.784061</td>\n",
       "      <td>0.028307</td>\n",
       "      <td>1.356702</td>\n",
       "      <td>0.418594</td>\n",
       "    </tr>\n",
       "  </tbody>\n",
       "</table>\n",
       "</div>"
      ],
      "text/plain": [
       "                                                                                                                                                                                                                                                                                                                                                                                                                                                                                                                                                                                                                                                         Classifier  \\\n",
       "0                                                                                                                                                                                                                                                                                                                                                                                                                                                                                                                                                                                          RandomForestClassifier(max_depth=5, n_estimators=500, random_state=1234)   \n",
       "1                                                                                                                                                                                                                                                                                                                                                                                                                                                                                                                                                                                                                                            KNeighborsClassifier()   \n",
       "2                                                                                                                                                                                                                                                                                                                                                                                                                                                                                                                               MLPClassifier(hidden_layer_sizes=(20, 20, 20), learning_rate_init=0.1,\\n              max_iter=20, random_state=1234, solver='sgd')   \n",
       "3                                                                                                                                                                                                                                                                                                                                                                                                                                                                                                                                                                                                                                            SVC(random_state=1234)   \n",
       "4                                                                                                                                                                                                                                                                                                                                                                                                                                                                                                                                                                                                                     GradientBoostingClassifier(random_state=1234)   \n",
       "5                                                                                                                                                                                                                                                                                                                                                                                                                                                                                                                                                                                                                             AdaBoostClassifier(random_state=1234)   \n",
       "6                                                                                                                                                                                                                                                                                                                                                                                                                                                                                                                                                                                                     LinearSVC(loss='hinge', max_iter=100000.0, random_state=1234)   \n",
       "7                                                                                                                                                                                                                                                                                                                                                                                                                                                                                                                                                                                                                                              LogisticRegression()   \n",
       "8   XGBClassifier(base_score=None, booster=None, colsample_bylevel=None,\\n              colsample_bynode=None, colsample_bytree=None, gamma=None,\\n              gpu_id=None, importance_type='gain', interaction_constraints=None,\\n              learning_rate=None, max_delta_step=None, max_depth=None,\\n              min_child_weight=None, missing=nan, monotone_constraints=None,\\n              n_estimators=100, n_jobs=None, num_parallel_tree=None,\\n              random_state=1234, reg_alpha=None, reg_lambda=None,\\n              scale_pos_weight=None, subsample=None, tree_method=None,\\n              validate_parameters=None, verbosity=None)   \n",
       "9                                                                                                                                                                                                                                                                                                                                                                                                                                                                                                                                                                                                           DecisionTreeClassifier(max_depth=10, random_state=1234)   \n",
       "10                                                                                                                                                                                                                                                                                                                                                                                                                                                                                                                                                                                                                  SVC(degree=5, kernel='poly', random_state=1234)   \n",
       "\n",
       "    Mean CV score  Std CV score  Train time  Predict time  \n",
       "0        0.830225      0.018994   30.578735      0.712374  \n",
       "1        0.826483      0.018116    1.272767      1.224338  \n",
       "2        0.820241      0.022005    7.310506      0.462887  \n",
       "3        0.819014      0.018098    1.564233      0.470615  \n",
       "4        0.818998      0.026931    8.842531      0.139894  \n",
       "5        0.812741      0.007728    3.175514      0.289473  \n",
       "6        0.807741      0.008269    1.455766      0.427603  \n",
       "7        0.806522      0.026265    1.449457      0.379718  \n",
       "8        0.802772      0.026184    2.360001      0.114777  \n",
       "9        0.797803      0.027393    1.588324      0.502410  \n",
       "10       0.784061      0.028307    1.356702      0.418594  "
      ]
     },
     "execution_count": 255,
     "metadata": {},
     "output_type": "execute_result"
    }
   ],
   "source": [
    "results = pd.DataFrame({\n",
    "    \"Classifier\": [params[\"classifier\"] for params in grid_search.cv_results_[\"params\"]],\n",
    "    \"Mean CV score\": grid_search.cv_results_[\"mean_test_score\"],\n",
    "    \"Std CV score\": grid_search.cv_results_[\"std_test_score\"],\n",
    "    \"Train time\": grid_search.cv_results_[\"mean_fit_time\"],\n",
    "    \"Predict time\": grid_search.cv_results_[\"mean_score_time\"],\n",
    "    \n",
    "}).sort_values(\"Mean CV score\", ascending=False).reset_index(drop=True)\n",
    "\n",
    "results"
   ]
  },
  {
   "cell_type": "markdown",
   "metadata": {},
   "source": [
    "The top five performing models are:\n",
    "1. Random forest classifer\n",
    "2. K-nearest neighbour classifier\n",
    "3. Simple neural network\n",
    "4. Support vector machine with rbf kernel\n",
    "5. Gradient boosting classifer\n",
    "\n",
    "Stability:\n",
    "* The gradient boosting classifier seems the least stable across the cross-validation.\n",
    "* The logistic regression classifier also sometimes performs performs well, but its scores are also less stable, and with this particular  train-test split it scores less well.\n",
    "\n",
    "Train time:\n",
    "* The random forest classifier is the slowest to train.\n",
    "* The neural network can also take a long time to train. but this is heavily dependent on the complexity of the hidden layers.\n",
    "\n",
    "Predict time:\n",
    "* The k-nearest neighbour and random forest classifiers are the slowest to use."
   ]
  },
  {
   "cell_type": "markdown",
   "metadata": {},
   "source": [
    "#### Learning curves\n",
    "\n",
    "It is possible that the neural network may not generalise will, because it is likely to overfit on a dataset this small.\n",
    "\n",
    "Can check for overfitting by plotting a learning curve of accuracy against number of training data points."
   ]
  },
  {
   "cell_type": "code",
   "execution_count": 264,
   "metadata": {},
   "outputs": [
    {
     "data": {
      "text/plain": [
       "<matplotlib.legend.Legend at 0x7f2dbd403e20>"
      ]
     },
     "execution_count": 264,
     "metadata": {},
     "output_type": "execute_result"
    },
    {
     "data": {
      "image/png": "[encoded data removed]",
      "text/plain": [
       "<Figure size 720x288 with 2 Axes>"
      ]
     },
     "metadata": {
      "needs_background": "light"
     },
     "output_type": "display_data"
    }
   ],
   "source": [
    "import warnings\n",
    "from sklearn.metrics import make_scorer\n",
    "from sklearn.model_selection import learning_curve\n",
    "\n",
    "preprocess = Pipeline(pipeline.steps[:-1])\n",
    "classifier = MLPClassifier(\n",
    "    hidden_layer_sizes=(20, 20, 20),\n",
    "    solver=\"sgd\",\n",
    "    learning_rate_init=0.1,\n",
    "    max_iter=20,\n",
    "    warm_start=False,\n",
    "    random_state=1234,\n",
    ")\n",
    "\n",
    "X_train_full_transformed = preprocess.fit_transform(X_train_full)\n",
    "\n",
    "with warnings.catch_warnings():\n",
    "    warnings.simplefilter(\"ignore\")\n",
    "    n_train, train_score, val_score = learning_curve(\n",
    "        classifier,\n",
    "        X_train_full_transformed,\n",
    "        y_train_full,\n",
    "        train_sizes=[0.05, 0.1, 0.2, 0.3, 0.4, 0.5, 0.6, 0.7, 0.8, 0.9, 1.0],\n",
    "        cv=5,\n",
    "        random_state=1234,\n",
    "    )\n",
    "\n",
    "plt.figure(figsize=(10, 4))\n",
    "    \n",
    "plt.subplot(121)\n",
    "plt.plot(n_train, train_score.mean(axis=1), label=\"Training score\")\n",
    "plt.plot(n_train, val_score.mean(axis=1), label=\"Val score\")\n",
    "plt.xlabel(\"No. of training data points\")\n",
    "plt.ylabel(\"Accuracy\")\n",
    "plt.legend()\n",
    "\n",
    "with warnings.catch_warnings():\n",
    "    warnings.simplefilter(\"ignore\")\n",
    "    n_train, train_score, val_score = learning_curve(\n",
    "        classifier,\n",
    "        X_train_full_transformed,\n",
    "        y_train_full,\n",
    "        scoring=\"neg_log_loss\",\n",
    "        train_sizes=[0.05, 0.1, 0.2, 0.3, 0.4, 0.5, 0.6, 0.7, 0.8, 0.9, 1.0],\n",
    "        cv=5,\n",
    "        random_state=1234,\n",
    "    )\n",
    "\n",
    "plt.subplot(122)\n",
    "plt.plot(n_train, -train_score.mean(axis=1), label=\"Training score\")\n",
    "plt.plot(n_train, -val_score.mean(axis=1), label=\"Val score\")\n",
    "plt.xlabel(\"No. of training data points\")\n",
    "plt.ylabel(\"Cross entropy loss\")\n",
    "plt.legend()"
   ]
  },
  {
   "cell_type": "markdown",
   "metadata": {},
   "source": [
    "Despite concerns, the model does not appear to badly overfit. The training and validation lines are relatively close together, indicating a there are a sufficient number of training data points."
   ]
  },
  {
   "cell_type": "markdown",
   "metadata": {},
   "source": [
    "#### Loss curves\n",
    "\n",
    "Neural network training is slower than the other models.\n",
    "\n",
    "Plot the accuracy and loss curves against training epoch to determine a maximum number of epochs to consider (although early stopping should help prevent superfluous training and overfitting)."
   ]
  },
  {
   "cell_type": "code",
   "execution_count": 257,
   "metadata": {},
   "outputs": [
    {
     "data": {
      "text/plain": [
       "<matplotlib.legend.Legend at 0x7f2dbd681e80>"
      ]
     },
     "execution_count": 257,
     "metadata": {},
     "output_type": "execute_result"
    },
    {
     "data": {
      "image/png": "[encoded data removed]",
      "text/plain": [
       "<Figure size 720x288 with 2 Axes>"
      ]
     },
     "metadata": {
      "needs_background": "light"
     },
     "output_type": "display_data"
    }
   ],
   "source": [
    "from sklearn.metrics import accuracy_score, log_loss\n",
    "\n",
    "classifier = MLPClassifier(\n",
    "    hidden_layer_sizes=(20, 20, 20),\n",
    "    solver=\"sgd\",\n",
    "    learning_rate_init=0.1,\n",
    "    max_iter=1,\n",
    "    warm_start=True,\n",
    "    random_state=1234,\n",
    ")\n",
    "\n",
    "X_train_transformed = preprocess.fit_transform(X_train)\n",
    "X_val_transformed = preprocess.fit_transform(X_val)\n",
    "\n",
    "epochs = 50\n",
    "train_score = []\n",
    "train_loss = []\n",
    "val_score = []\n",
    "val_loss = []\n",
    "for _ in range(epochs):\n",
    "    with warnings.catch_warnings():\n",
    "        warnings.simplefilter(\"ignore\")\n",
    "        classifier.fit(X_train_transformed, y_train)\n",
    "    \n",
    "    y_hat = classifier.predict(X_train_transformed)\n",
    "    train_score.append(accuracy_score(y_train, y_hat))\n",
    "    train_loss.append(log_loss(y_train, y_hat))\n",
    "    \n",
    "    y_hat = classifier.predict(X_val_transformed)\n",
    "    val_score.append(accuracy_score(y_val, y_hat))\n",
    "    val_loss.append(log_loss(y_val, y_hat))\n",
    "\n",
    "plt.figure(figsize=(10, 4))\n",
    "    \n",
    "plt.subplot(121)\n",
    "plt.plot(train_score, label=\"Training score\")\n",
    "plt.plot(val_score, label=\"Val score\")\n",
    "plt.xlabel(\"Epoch\")\n",
    "plt.ylabel(\"Accuracy\")\n",
    "plt.legend()\n",
    "\n",
    "plt.subplot(122)\n",
    "plt.plot(train_loss, label=\"Training loss\")\n",
    "plt.plot(val_loss, label=\"Val loss\")\n",
    "plt.xlabel(\"Epoch\")\n",
    "plt.ylabel(\"Cross entropy loss\")\n",
    "plt.legend()"
   ]
  },
  {
   "cell_type": "markdown",
   "metadata": {},
   "source": [
    "Training will be limited to 10 epochs, as there is no gain (and a slightl drop in performance) beyond this point."
   ]
  },
  {
   "cell_type": "markdown",
   "metadata": {},
   "source": [
    "### Fine-tuning shortlisted models\n",
    "\n",
    "Shortlisted models:\n",
    "* Random forest classifer\n",
    "* Support vector machine with rbf kernel\n",
    "* Gradient boosting classifer\n",
    "* Logistic regression\n",
    "\n",
    "The above simple neural network will also be used, however to reduce execution time the parameters will not be tuned further."
   ]
  },
  {
   "cell_type": "code",
   "execution_count": 267,
   "metadata": {},
   "outputs": [
    {
     "name": "stdout",
     "output_type": "stream",
     "text": [
      "Fitting 5 folds for each of 32 candidates, totalling 160 fits\n"
     ]
    },
    {
     "name": "stderr",
     "output_type": "stream",
     "text": [
      "[Parallel(n_jobs=-1)]: Using backend ThreadingBackend with 8 concurrent workers.\n",
      "[Parallel(n_jobs=-1)]: Done  34 tasks      | elapsed:  2.6min\n",
      "/home/james/.virtualenvs/data/lib/python3.8/site-packages/sklearn/neural_network/_multilayer_perceptron.py:582: ConvergenceWarning: Stochastic Optimizer: Maximum iterations (10) reached and the optimization hasn't converged yet.\n",
      "  warnings.warn(\n",
      "/home/james/.virtualenvs/data/lib/python3.8/site-packages/sklearn/neural_network/_multilayer_perceptron.py:582: ConvergenceWarning: Stochastic Optimizer: Maximum iterations (10) reached and the optimization hasn't converged yet.\n",
      "  warnings.warn(\n",
      "/home/james/.virtualenvs/data/lib/python3.8/site-packages/sklearn/neural_network/_multilayer_perceptron.py:582: ConvergenceWarning: Stochastic Optimizer: Maximum iterations (10) reached and the optimization hasn't converged yet.\n",
      "  warnings.warn(\n",
      "/home/james/.virtualenvs/data/lib/python3.8/site-packages/sklearn/neural_network/_multilayer_perceptron.py:582: ConvergenceWarning: Stochastic Optimizer: Maximum iterations (10) reached and the optimization hasn't converged yet.\n",
      "  warnings.warn(\n",
      "/home/james/.virtualenvs/data/lib/python3.8/site-packages/sklearn/neural_network/_multilayer_perceptron.py:582: ConvergenceWarning: Stochastic Optimizer: Maximum iterations (10) reached and the optimization hasn't converged yet.\n",
      "  warnings.warn(\n",
      "[Parallel(n_jobs=-1)]: Done 160 out of 160 | elapsed:  8.7min finished\n"
     ]
    }
   ],
   "source": [
    "from sklearn.linear_model import LogisticRegressionCV\n",
    "\n",
    "random_forest = {\n",
    "    \"classifier\": [RandomForestClassifier(random_state=1234)],\n",
    "    \"classifier__n_estimators\": [100, 500, 1000],\n",
    "    \"classifier__max_depth\": [2, 3, 4, 5],\n",
    "}\n",
    "\n",
    "svm = {\n",
    "    \"classifier\": [SVC(kernel=\"rbf\", random_state=1234)],\n",
    "    \"classifier__C\": [0.1, 1.0, 10.0, 100.0],\n",
    "    \"classifier__class_weight\": [None, \"balanced\"],\n",
    "}\n",
    "\n",
    "gradient_boosting = {\n",
    "    \"classifier\": [GradientBoostingClassifier(random_state=1234)],\n",
    "    \"classifier__learning_rate\": [0.001, 0.01, 0.1],\n",
    "    \"classifier__n_estimators\": [100, 500, 1000],\n",
    "}\n",
    "\n",
    "logistic_regression = {\n",
    "    # Logistic regression implements its own grid search for C with CV\n",
    "    \"classifier\": [LogisticRegressionCV(Cs=10, cv=5, random_state=1234)],\n",
    "    \"classifier__class_weight\": [None, \"balanced\"],\n",
    "}\n",
    "\n",
    "neural_network = {\n",
    "    # Do no tune neural network further\n",
    "    \"classifier\": [MLPClassifier(hidden_layer_sizes=(20, 20, 20), solver=\"sgd\", learning_rate_init=0.1, max_iter=10, random_state=1234)],\n",
    "}\n",
    "\n",
    "grid_search = GridSearchCV(\n",
    "    pipeline,\n",
    "    [\n",
    "        random_forest,\n",
    "        svm,\n",
    "        gradient_boosting,\n",
    "        logistic_regression,\n",
    "        neural_network,\n",
    "    ],\n",
    "    cv=5,\n",
    "    verbose=1,\n",
    ")\n",
    "\n",
    "with parallel_backend(\"threading\", n_jobs=-1):\n",
    "    grid_search.fit(X_train_full, y_train_full)"
   ]
  },
  {
   "cell_type": "code",
   "execution_count": 268,
   "metadata": {},
   "outputs": [
    {
     "name": "stdout",
     "output_type": "stream",
     "text": [
      "1. RandomForestClassifier(max_depth=4, n_estimators=500, random_state=1234)\n",
      "    CV score = 0.8365 ± 0.0202\n",
      "    Timings  = 32.439 (training), 1.490 (predict)\n",
      "\n",
      "2. RandomForestClassifier(max_depth=4, n_estimators=1000, random_state=1234)\n",
      "    CV score = 0.8365 ± 0.0228\n",
      "    Timings  = 61.948 (training), 3.080 (predict)\n",
      "\n",
      "3. RandomForestClassifier(max_depth=4, random_state=1234)\n",
      "    CV score = 0.8365 ± 0.0199\n",
      "    Timings  = 7.167 (training), 0.360 (predict)\n",
      "\n",
      "4. RandomForestClassifier(max_depth=5, random_state=1234)\n",
      "    CV score = 0.8327 ± 0.0202\n",
      "    Timings  = 7.159 (training), 0.338 (predict)\n",
      "\n",
      "5. RandomForestClassifier(max_depth=5, n_estimators=500, random_state=1234)\n",
      "    CV score = 0.8302 ± 0.0190\n",
      "    Timings  = 35.833 (training), 1.857 (predict)\n",
      "\n",
      "6. RandomForestClassifier(max_depth=5, n_estimators=1000, random_state=1234)\n",
      "    CV score = 0.8290 ± 0.0210\n",
      "    Timings  = 65.260 (training), 2.263 (predict)\n",
      "\n",
      "7. SVC(C=10.0, random_state=1234)\n",
      "    CV score = 0.8265 ± 0.0232\n",
      "    Timings  = 0.701 (training), 0.148 (predict)\n",
      "\n",
      "8. GradientBoostingClassifier(learning_rate=0.01, n_estimators=500,\n",
      "                           random_state=1234)\n",
      "    CV score = 0.8252 ± 0.0210\n",
      "    Timings  = 37.536 (training), 0.137 (predict)\n",
      "\n",
      "9. RandomForestClassifier(max_depth=3, n_estimators=500, random_state=1234)\n",
      "    CV score = 0.8252 ± 0.0205\n",
      "    Timings  = 31.567 (training), 1.437 (predict)\n",
      "\n",
      "10. RandomForestClassifier(max_depth=3, random_state=1234)\n",
      "    CV score = 0.8252 ± 0.0165\n",
      "    Timings  = 8.056 (training), 0.534 (predict)\n",
      "\n",
      "11. RandomForestClassifier(max_depth=3, n_estimators=1000, random_state=1234)\n",
      "    CV score = 0.8240 ± 0.0223\n",
      "    Timings  = 61.814 (training), 2.676 (predict)\n",
      "\n",
      "12. GradientBoostingClassifier(learning_rate=0.01, random_state=1234)\n",
      "    CV score = 0.8215 ± 0.0201\n",
      "    Timings  = 7.957 (training), 0.101 (predict)\n",
      "\n",
      "13. MLPClassifier(hidden_layer_sizes=(20, 20, 20), learning_rate_init=0.1,\n",
      "              max_iter=10, random_state=1234, solver='sgd')\n",
      "    CV score = 0.8215 ± 0.0145\n",
      "    Timings  = 1.327 (training), 0.116 (predict)\n",
      "\n",
      "14. GradientBoostingClassifier(learning_rate=0.001, n_estimators=1000,\n",
      "                           random_state=1234)\n",
      "    CV score = 0.8203 ± 0.0215\n",
      "    Timings  = 77.736 (training), 0.104 (predict)\n",
      "\n",
      "15. SVC(C=100.0, random_state=1234)\n",
      "    CV score = 0.8202 ± 0.0221\n",
      "    Timings  = 0.623 (training), 0.135 (predict)\n",
      "\n",
      "16. SVC(random_state=1234)\n",
      "    CV score = 0.8190 ± 0.0181\n",
      "    Timings  = 0.409 (training), 0.116 (predict)\n",
      "\n",
      "17. GradientBoostingClassifier(random_state=1234)\n",
      "    CV score = 0.8190 ± 0.0269\n",
      "    Timings  = 8.138 (training), 0.105 (predict)\n",
      "\n",
      "18. GradientBoostingClassifier(learning_rate=0.01, n_estimators=1000,\n",
      "                           random_state=1234)\n",
      "    CV score = 0.8190 ± 0.0275\n",
      "    Timings  = 75.256 (training), 0.116 (predict)\n",
      "\n",
      "19. RandomForestClassifier(max_depth=2, random_state=1234)\n",
      "    CV score = 0.8152 ± 0.0225\n",
      "    Timings  = 8.990 (training), 0.833 (predict)\n",
      "\n",
      "20. RandomForestClassifier(max_depth=2, n_estimators=500, random_state=1234)\n",
      "    CV score = 0.8115 ± 0.0227\n",
      "    Timings  = 36.436 (training), 1.546 (predict)\n",
      "\n",
      "21. RandomForestClassifier(max_depth=2, n_estimators=1000, random_state=1234)\n",
      "    CV score = 0.8103 ± 0.0209\n",
      "    Timings  = 63.727 (training), 2.966 (predict)\n",
      "\n",
      "22. SVC(C=0.1, random_state=1234)\n",
      "    CV score = 0.8102 ± 0.0165\n",
      "    Timings  = 0.377 (training), 0.129 (predict)\n",
      "\n",
      "23. SVC(class_weight='balanced', random_state=1234)\n",
      "    CV score = 0.8090 ± 0.0098\n",
      "    Timings  = 0.487 (training), 0.121 (predict)\n",
      "\n",
      "24. GradientBoostingClassifier(n_estimators=500, random_state=1234)\n",
      "    CV score = 0.8040 ± 0.0234\n",
      "    Timings  = 40.374 (training), 0.115 (predict)\n",
      "\n",
      "25. LogisticRegressionCV(cv=5, random_state=1234)\n",
      "    CV score = 0.8028 ± 0.0158\n",
      "    Timings  = 4.827 (training), 0.103 (predict)\n",
      "\n",
      "26. GradientBoostingClassifier(n_estimators=1000, random_state=1234)\n",
      "    CV score = 0.7978 ± 0.0263\n",
      "    Timings  = 65.784 (training), 0.052 (predict)\n",
      "\n",
      "27. SVC(C=100.0, class_weight='balanced', random_state=1234)\n",
      "    CV score = 0.7940 ± 0.0197\n",
      "    Timings  = 0.444 (training), 0.090 (predict)\n",
      "\n",
      "28. GradientBoostingClassifier(learning_rate=0.001, n_estimators=500,\n",
      "                           random_state=1234)\n",
      "    CV score = 0.7928 ± 0.0150\n",
      "    Timings  = 41.328 (training), 0.123 (predict)\n",
      "\n",
      "29. SVC(C=0.1, class_weight='balanced', random_state=1234)\n",
      "    CV score = 0.7878 ± 0.0144\n",
      "    Timings  = 0.446 (training), 0.096 (predict)\n",
      "\n",
      "30. LogisticRegressionCV(class_weight='balanced', cv=5, random_state=1234)\n",
      "    CV score = 0.7853 ± 0.0096\n",
      "    Timings  = 6.027 (training), 0.176 (predict)\n",
      "\n",
      "31. SVC(C=10.0, class_weight='balanced', random_state=1234)\n",
      "    CV score = 0.7803 ± 0.0339\n",
      "    Timings  = 0.433 (training), 0.100 (predict)\n",
      "\n",
      "32. GradientBoostingClassifier(learning_rate=0.001, random_state=1234)\n",
      "    CV score = 0.6167 ± 0.0026\n",
      "    Timings  = 9.745 (training), 0.123 (predict)\n",
      "\n"
     ]
    }
   ],
   "source": [
    "from operator import itemgetter\n",
    "from sklearn.base import clone\n",
    "\n",
    "def ordered_results(grid_search):\n",
    "    num_estimators = len(grid_search.cv_results_[\"rank_test_score\"])\n",
    "    results = [{name: value[i] for name, value in grid_search.cv_results_.items()} for i in range(num_estimators)]\n",
    "    return list(sorted(results, key=itemgetter(\"rank_test_score\")))\n",
    "\n",
    "def get_estimator(grid_search, result):\n",
    "    estimator = clone(grid_search.estimator)\n",
    "    estimator.set_params(**result[\"params\"])\n",
    "    return estimator\n",
    "\n",
    "def print_results(grid_search):\n",
    "    results = ordered_results(grid_search)\n",
    "    \n",
    "    for result in results:\n",
    "        estimator = get_estimator(grid_search, result)\n",
    "        print(f\"{result['rank_test_score']}. {estimator.named_steps['classifier']}\")\n",
    "        print(f\"    CV score = {result['mean_test_score']:0.4f} ± {result['std_test_score']:0.4f}\")\n",
    "        print(f\"    Timings  = {result['mean_fit_time']:0.3f} (training), {result['mean_score_time']:0.3f} (predict)\")\n",
    "        print()\n",
    "        \n",
    "print_results(grid_search)"
   ]
  },
  {
   "cell_type": "markdown",
   "metadata": {},
   "source": [
    "The top parameters for each model are:"
   ]
  },
  {
   "cell_type": "code",
   "execution_count": 279,
   "metadata": {},
   "outputs": [],
   "source": [
    "from sklearn.base import clone\n",
    "\n",
    "# random_forest = clone(pipeline).set_params(classifier=RandomForestClassifier(max_depth=3, n_estimators=500, random_state=1234))\n",
    "random_forest = clone(pipeline).set_params(classifier=RandomForestClassifier(max_depth=4, n_estimators=500, random_state=1234))\n",
    "\n",
    "# svm = clone(pipeline).set_params(classifier=SVC(C=1.0, class_weight=None, random_state=1234, probability=True))\n",
    "svm = clone(pipeline).set_params(classifier=SVC(C=10.0, class_weight=None, random_state=1234, probability=True))\n",
    "\n",
    "gradient_boosting = clone(pipeline).set_params(classifier=GradientBoostingClassifier(learning_rate=0.01, n_estimators=500, random_state=1234))\n",
    "\n",
    "logistic_regression = clone(pipeline).set_params(classifier=LogisticRegressionCV(class_weight=None, Cs=10, cv=5, random_state=1234))\n",
    "\n",
    "neural_network = clone(pipeline).set_params(classifier=MLPClassifier(hidden_layer_sizes=(20, 20, 20), solver=\"sgd\", learning_rate_init=0.1, max_iter=10, random_state=1234))"
   ]
  },
  {
   "cell_type": "markdown",
   "metadata": {},
   "source": [
    "### Errors analysis\n",
    "\n",
    "Look at the errors that the top models make:"
   ]
  },
  {
   "cell_type": "code",
   "execution_count": 272,
   "metadata": {},
   "outputs": [
    {
     "name": "stdout",
     "output_type": "stream",
     "text": [
      "RandomForestClassifier(max_depth=4, n_estimators=500, random_state=1234)\n",
      "Pclass  Sex     AgeGroup     \n",
      "1       female  Child                 NaN\n",
      "                Younger adult    1.000000\n",
      "                Older adult           NaN\n",
      "        male    Child            1.000000\n",
      "                Younger adult    0.615385\n",
      "                Older adult           NaN\n",
      "2       female  Child            1.000000\n",
      "                Younger adult    1.000000\n",
      "                Older adult           NaN\n",
      "        male    Child            1.000000\n",
      "                Younger adult    0.937500\n",
      "                Older adult           NaN\n",
      "3       female  Child            1.000000\n",
      "                Younger adult    0.600000\n",
      "                Older adult           NaN\n",
      "        male    Child            1.000000\n",
      "                Younger adult    0.853659\n",
      "                Older adult           NaN\n",
      "Name: CorrectResult, dtype: float64\n",
      "\n",
      "SVC(C=10.0, random_state=1234)\n",
      "Pclass  Sex     AgeGroup     \n",
      "1       female  Child                 NaN\n",
      "                Younger adult    0.928571\n",
      "                Older adult           NaN\n",
      "        male    Child            1.000000\n",
      "                Younger adult    0.307692\n",
      "                Older adult           NaN\n",
      "2       female  Child            1.000000\n",
      "                Younger adult    1.000000\n",
      "                Older adult           NaN\n",
      "        male    Child            1.000000\n",
      "                Younger adult    0.937500\n",
      "                Older adult           NaN\n",
      "3       female  Child            1.000000\n",
      "                Younger adult    0.500000\n",
      "                Older adult           NaN\n",
      "        male    Child            1.000000\n",
      "                Younger adult    0.853659\n",
      "                Older adult           NaN\n",
      "Name: CorrectResult, dtype: float64\n",
      "\n",
      "GradientBoostingClassifier(learning_rate=0.01, n_estimators=500,\n",
      "                           random_state=1234)\n",
      "Pclass  Sex     AgeGroup     \n",
      "1       female  Child                 NaN\n",
      "                Younger adult    1.000000\n",
      "                Older adult           NaN\n",
      "        male    Child            1.000000\n",
      "                Younger adult    0.615385\n",
      "                Older adult           NaN\n",
      "2       female  Child            1.000000\n",
      "                Younger adult    1.000000\n",
      "                Older adult           NaN\n",
      "        male    Child            1.000000\n",
      "                Younger adult    0.937500\n",
      "                Older adult           NaN\n",
      "3       female  Child            0.800000\n",
      "                Younger adult    0.600000\n",
      "                Older adult           NaN\n",
      "        male    Child            1.000000\n",
      "                Younger adult    0.853659\n",
      "                Older adult           NaN\n",
      "Name: CorrectResult, dtype: float64\n",
      "\n",
      "MLPClassifier(hidden_layer_sizes=(20, 20, 20), learning_rate_init=0.1,\n",
      "              max_iter=10, random_state=1234, solver='sgd')\n",
      "Pclass  Sex     AgeGroup     \n",
      "1       female  Child                 NaN\n",
      "                Younger adult    1.000000\n",
      "                Older adult           NaN\n",
      "        male    Child            1.000000\n",
      "                Younger adult    0.692308\n",
      "                Older adult           NaN\n",
      "2       female  Child            1.000000\n",
      "                Younger adult    1.000000\n",
      "                Older adult           NaN\n",
      "        male    Child            1.000000\n",
      "                Younger adult    0.937500\n",
      "                Older adult           NaN\n",
      "3       female  Child            1.000000\n",
      "                Younger adult    0.600000\n",
      "                Older adult           NaN\n",
      "        male    Child            1.000000\n",
      "                Younger adult    0.853659\n",
      "                Older adult           NaN\n",
      "Name: CorrectResult, dtype: float64\n",
      "\n"
     ]
    },
    {
     "name": "stderr",
     "output_type": "stream",
     "text": [
      "/home/james/.virtualenvs/data/lib/python3.8/site-packages/sklearn/neural_network/_multilayer_perceptron.py:582: ConvergenceWarning: Stochastic Optimizer: Maximum iterations (10) reached and the optimization hasn't converged yet.\n",
      "  warnings.warn(\n"
     ]
    }
   ],
   "source": [
    "results = ordered_results(grid_search)\n",
    "results = [results[0]] + [results[6]] + [results[7]] + [results[12]]\n",
    "\n",
    "for result in results:\n",
    "    estimator = get_estimator(grid_search, result)\n",
    "    estimator.fit(X_train, y_train)\n",
    "    correct_result = (estimator.predict(X_val) == y_val)\n",
    "    errors_debug = X_val.assign(CorrectResult=correct_result, AgeGroup=get_age_group(X_val))\n",
    "    \n",
    "    print(estimator.named_steps[\"classifier\"])\n",
    "    print(errors_debug.groupby([\"Pclass\", \"Sex\", \"AgeGroup\"])[\"CorrectResult\"].mean())\n",
    "    print()"
   ]
  },
  {
   "cell_type": "markdown",
   "metadata": {},
   "source": [
    "Most models seem to make errors in the 1st class younger adult male group and the 3rd class younder female groups."
   ]
  },
  {
   "cell_type": "markdown",
   "metadata": {},
   "source": [
    "### Ensemble methods\n",
    "\n",
    "Ideally each model would independently make errors across the different groups, and we could use a voting classifier to get the best overall answer. It's unlike that this independence is satisfied here, however a voting classifier will proably still help a bit.\n",
    "\n",
    "All of the models are able to return a probability for each class, so as an added bonus a soft-voting classifier can be used, which is likely to produce slightly better results."
   ]
  },
  {
   "cell_type": "code",
   "execution_count": 281,
   "metadata": {},
   "outputs": [
    {
     "name": "stderr",
     "output_type": "stream",
     "text": [
      "/home/james/.virtualenvs/data/lib/python3.8/site-packages/sklearn/neural_network/_multilayer_perceptron.py:582: ConvergenceWarning: Stochastic Optimizer: Maximum iterations (10) reached and the optimization hasn't converged yet.\n",
      "  warnings.warn(\n",
      "/home/james/.virtualenvs/data/lib/python3.8/site-packages/sklearn/neural_network/_multilayer_perceptron.py:582: ConvergenceWarning: Stochastic Optimizer: Maximum iterations (10) reached and the optimization hasn't converged yet.\n",
      "  warnings.warn(\n",
      "/home/james/.virtualenvs/data/lib/python3.8/site-packages/sklearn/neural_network/_multilayer_perceptron.py:582: ConvergenceWarning: Stochastic Optimizer: Maximum iterations (10) reached and the optimization hasn't converged yet.\n",
      "  warnings.warn(\n",
      "/home/james/.virtualenvs/data/lib/python3.8/site-packages/sklearn/neural_network/_multilayer_perceptron.py:582: ConvergenceWarning: Stochastic Optimizer: Maximum iterations (10) reached and the optimization hasn't converged yet.\n",
      "  warnings.warn(\n",
      "/home/james/.virtualenvs/data/lib/python3.8/site-packages/sklearn/neural_network/_multilayer_perceptron.py:582: ConvergenceWarning: Stochastic Optimizer: Maximum iterations (10) reached and the optimization hasn't converged yet.\n",
      "  warnings.warn(\n"
     ]
    },
    {
     "data": {
      "text/plain": [
       "0.8289829192546584"
      ]
     },
     "execution_count": 281,
     "metadata": {},
     "output_type": "execute_result"
    }
   ],
   "source": [
    "from sklearn.ensemble import VotingClassifier\n",
    "\n",
    "voting_classifier = VotingClassifier(estimators=(\n",
    "    (\"random_forest\", random_forest),\n",
    "    (\"svm\", svm),\n",
    "    (\"gradient_boosting\", gradient_boosting),\n",
    "    (\"logistic_regression\", logistic_regression),\n",
    "    (\"neural_network\", neural_network),\n",
    "), voting=\"soft\")\n",
    "\n",
    "cv = cross_validate(voting_classifier, X_train_full, y_train_full, cv=5)\n",
    "cv[\"test_score\"].mean()"
   ]
  },
  {
   "cell_type": "markdown",
   "metadata": {},
   "source": [
    "The cross validation score of the ensemble method (a voting classifier) is 0.829. Although this is slightly less than the individual random forest model, it is lkely to generalise better."
   ]
  },
  {
   "cell_type": "code",
   "execution_count": 282,
   "metadata": {},
   "outputs": [
    {
     "name": "stderr",
     "output_type": "stream",
     "text": [
      "/home/james/.virtualenvs/data/lib/python3.8/site-packages/sklearn/neural_network/_multilayer_perceptron.py:582: ConvergenceWarning: Stochastic Optimizer: Maximum iterations (10) reached and the optimization hasn't converged yet.\n",
      "  warnings.warn(\n"
     ]
    },
    {
     "data": {
      "text/plain": [
       "0.8333333333333334"
      ]
     },
     "execution_count": 282,
     "metadata": {},
     "output_type": "execute_result"
    }
   ],
   "source": [
    "voting_classifier.fit(X_train_full, y_train_full)\n",
    "voting_classifier.score(X_test, y_test)"
   ]
  },
  {
   "cell_type": "markdown",
   "metadata": {},
   "source": [
    "An estimate of the generalisation score of the model is 0.833."
   ]
  },
  {
   "cell_type": "markdown",
   "metadata": {
    "execution": {
     "iopub.execute_input": "2020-07-24T17:58:29.759712Z",
     "iopub.status.busy": "2020-07-24T17:58:29.758538Z",
     "iopub.status.idle": "2020-07-24T17:58:29.954978Z",
     "shell.execute_reply": "2020-07-24T17:58:29.952956Z",
     "shell.execute_reply.started": "2020-07-24T17:58:29.759712Z"
    }
   },
   "source": [
    "## Retrain and submit results\n",
    "\n",
    "The model can now be retrained on all the training data and uses to predict on the Kaggle test set."
   ]
  },
  {
   "cell_type": "code",
   "execution_count": 283,
   "metadata": {},
   "outputs": [
    {
     "name": "stderr",
     "output_type": "stream",
     "text": [
      "/home/james/.virtualenvs/data/lib/python3.8/site-packages/sklearn/neural_network/_multilayer_perceptron.py:582: ConvergenceWarning: Stochastic Optimizer: Maximum iterations (10) reached and the optimization hasn't converged yet.\n",
      "  warnings.warn(\n"
     ]
    }
   ],
   "source": [
    "voting_classifier.fit(X, y)\n",
    "y_pred = voting_classifier.predict(test)\n",
    "submission = pd.Series(y_pred, index=test.index, name=\"Survived\")\n",
    "submission.to_csv(\"../processed_data/submission.csv\")"
   ]
  },
  {
   "cell_type": "code",
   "execution_count": 285,
   "metadata": {},
   "outputs": [
    {
     "name": "stdout",
     "output_type": "stream",
     "text": [
      "Warning: Your Kaggle API key is readable by other users on this system! To fix this, you can run 'chmod 600 /home/james/.kaggle/kaggle.json'\n",
      "100%|██████████████████████████████████████| 2.77k/2.77k [00:02<00:00, 1.38kB/s]\n",
      "Successfully submitted to Titanic: Machine Learning from Disaster"
     ]
    }
   ],
   "source": [
    "!kaggle competitions submit -f \"../processed_data/submission.csv\" -m \"Voting classifier submission\" titanic "
   ]
  },
  {
   "cell_type": "markdown",
   "metadata": {},
   "source": [
    "This models scores `0.79186` on the Kaggle test set, which is a bit lower than the predicted generalisation score. The is probably because the statistics of the Kaggle test set are not quite the same as the statistics of the training set, etc."
   ]
  },
  {
   "cell_type": "code",
   "execution_count": 322,
   "metadata": {},
   "outputs": [
    {
     "name": "stdout",
     "output_type": "stream",
     "text": [
      "Number of Kaggle submissions:\n",
      "Less than my score = 38331\n",
      "Equal to my score  =   364\n",
      "More than my score =  3473\n",
      "TOTAL              = 42168\n",
      "\n",
      "Average percentile = 91.3%\n"
     ]
    }
   ],
   "source": [
    "my_score = 0.79186\n",
    "leaderboard = pd.read_csv(\"../raw_data/titanic-publicleaderboard.csv\")\n",
    "\n",
    "total_submissions = leaderboard[\"Score\"].count()\n",
    "less_than_mine = (leaderboard[\"Score\"] < my_score).sum()\n",
    "equal_to_mine = (leaderboard[\"Score\"] == my_score).sum()\n",
    "more_than_mine = (leaderboard[\"Score\"] > my_score).sum()\n",
    "\n",
    "print(\"Number of Kaggle submissions:\")\n",
    "print(f\"Less than my score = {less_than_mine:5}\")\n",
    "print(f\"Equal to my score  = {equal_to_mine:5}\")\n",
    "print(f\"More than my score = {more_than_mine:5}\")\n",
    "print(f\"TOTAL              = {total_submissions:5}\")\n",
    "\n",
    "quantile = (less_than_mine + equal_to_mine/2) / total_submissions\n",
    "\n",
    "print()\n",
    "print(f\"Average percentile = {quantile:0.1%}\")"
   ]
  },
  {
   "cell_type": "code",
   "execution_count": 324,
   "metadata": {},
   "outputs": [
    {
     "data": {
      "image/png": "[encoded data removed]",
      "text/plain": [
       "<Figure size 432x288 with 1 Axes>"
      ]
     },
     "metadata": {
      "needs_background": "light"
     },
     "output_type": "display_data"
    }
   ],
   "source": [
    "scores = leaderboard[\"Score\"].sort_values()\n",
    "rank = scores.rank(pct=True)\n",
    "plt.plot(scores, rank * 100)\n",
    "plt.xlabel(\"Accuracy score\")\n",
    "plt.ylabel(\"Percentile\")\n",
    "plt.axvline(my_score, color=\"r\")\n",
    "plt.axhline(quantile * 100, color=\"r\")\n",
    "plt.xlim(0.7, 0.9);"
   ]
  },
  {
   "cell_type": "code",
   "execution_count": 328,
   "metadata": {},
   "outputs": [
    {
     "data": {
      "image/png": "[encoded data removed]",
      "text/plain": [
       "<Figure size 432x288 with 1 Axes>"
      ]
     },
     "metadata": {
      "needs_background": "light"
     },
     "output_type": "display_data"
    }
   ],
   "source": [
    "sns.kdeplot(scores, clip=(0.7, 0.9))\n",
    "plt.axvline(my_score, color=\"r\");"
   ]
  },
  {
   "cell_type": "markdown",
   "metadata": {},
   "source": [
    "## Optional extras\n",
    "\n",
    "Other work that could be conducted includes:\n",
    "\n",
    "* Plotting a ROC curve\n",
    "* Taking various hyperparameters and plot on a graph showing accuracy or cross entropy loss on training and validation sets\n",
    "    - Independently at first\n",
    "    - Then could try on a heatmap or parallel coordinates plot\n",
    "* Plot more learning curves for chosen models"
   ]
  }
 ],
 "metadata": {
  "kernelspec": {
   "display_name": "Python 3",
   "language": "python",
   "name": "python3"
  },
  "language_info": {
   "codemirror_mode": {
    "name": "ipython",
    "version": 3
   },
   "file_extension": ".py",
   "mimetype": "text/x-python",
   "name": "python",
   "nbconvert_exporter": "python",
   "pygments_lexer": "ipython3",
   "version": "3.8.2"
  },
  "toc-autonumbering": false,
  "toc-showcode": false,
  "toc-showmarkdowntxt": false,
  "toc-showtags": false
 },
 "nbformat": 4,
 "nbformat_minor": 4
}
